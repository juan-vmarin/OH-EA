{
 "cells": [
  {
   "cell_type": "markdown",
   "metadata": {},
   "source": [
    "# Introducción\n",
    "Esta práctica se basa en la realización de un problema de optimización dentro del ámbito estudiantil.\n",
    "\n",
    "El problema realizado se basa en la elección de un determinado número de cursos aprovechando al máximo (de una forma óptima) el tiempo y la cantidad de estos."
   ]
  },
  {
   "cell_type": "markdown",
   "metadata": {},
   "source": [
    "## Horario de cursos\n",
    "Hay n cursos diferentes, están numerados del 0 al (n-1). Cada curso tiene un tiempo de clase continuo determinado T (tiempo del curso) y una fecha de cierre D días. Se continuará estudiando un curso durante T días hasta que se complete el día D, y comenzará el día 1.\n",
    "\n",
    "\n",
    "Dado n cursos representados por (T, D) pares. El objetivo es encontrar la secuencia de cursos que puede cursar como máximo tanto el número de cursos (objetivo con más prioridad) como el tiempo invertido en los cursos (los T días acumulados desde día 1)."
   ]
  },
  {
   "cell_type": "markdown",
   "metadata": {},
   "source": [
    "## Ejemplo\n",
    "Dado la siguiente lista de clases: [(100, 200), (200, 1300), (1000, 1250), (2000, 3200)]\n",
    "\n",
    "Una solución óptima es: [(100, 200), (1000, 1250), (200, 1300)]\n",
    "\n",
    "### Explicación\n",
    "\n",
    "Hay 4 cursos en total, pero se puede tomar hasta 3 cursos:\n",
    "\n",
    "- En primer lugar, para realizar el primer curso, se tomarán 100 días, se completará exactamente el día 100 y se prepara para el siguiente curso el día 101.\n",
    "\n",
    "- En segundo lugar, se tomará 1000 días para empezar el tercer curso, por lo que se terminará el día 1100 y se empieza a preparar para el siguiente curso el día 1101.\n",
    "\n",
    "- En tercer lugar, pasarám 200 días para tomar el segundo curso, por lo que se terminará el día 1300.\n",
    "\n",
    "- Y por último, el cuarto curso no se puede tomar ahora porque lo terminará el día 3300, que es más allá de la fecha de cierre."
   ]
  },
  {
   "cell_type": "markdown",
   "metadata": {},
   "source": [
    "## Código\n",
    "Para la implementación del código hemos acudido la librería DEAP de Python."
   ]
  },
  {
   "cell_type": "code",
   "execution_count": 1,
   "metadata": {},
   "outputs": [],
   "source": [
    "from deap import creator\n",
    "from deap import base\n",
    "from deap import tools\n",
    "import array\n",
    "\n",
    "creator.create(\"Fitness\", base.Fitness, weights=(1.0, 1.0))\n",
    "creator.create(\"Individual\", array.array, typecode='i', fitness=creator.Fitness)"
   ]
  },
  {
   "cell_type": "markdown",
   "metadata": {},
   "source": [
    "Para representar la codificación de un individuo usamos un array para guardar el orden de las posiciones que ocupa cada curso en la lista de cursos dado como input. Cada atributo fitness de cada individuo está formado por dos valores, primero por el número de cursos cursados, y el segundo indica el tiempo en días que han cursado en total. Tanto el primero como el segundo valor son problemas de maximización.\n",
    "\n",
    "Creamos una lista de cursos con longitud NBR_COURSES de forma aleatoria tal que 1 < T, D < 1000 como input del problema a resolver."
   ]
  },
  {
   "cell_type": "code",
   "execution_count": 2,
   "metadata": {},
   "outputs": [],
   "source": [
    "import random\n",
    "random.seed(100) # mantener la misma semilla para obtener simpre los mismos resultados\n",
    "\n",
    "NBR_COURSES = 50 # número de cursos a generar\n",
    "courses = []\n",
    "for _ in range(NBR_COURSES):\n",
    "    T = random.randint(1, 9999)\n",
    "    D = random.randint(T+1, 10000)\n",
    "    courses.append((T, D))\n",
    "    \n",
    "#courses = [(100, 200), (200, 1300), (1000, 1250), (2000, 3200)]\n",
    "#courses = [(5900, 6001), (100, 101), (100,201), (100,301), (100,401), (100,501), (100,601)]"
   ]
  },
  {
   "cell_type": "markdown",
   "metadata": {},
   "source": [
    "En este punto, definimos como inicializar nuestra población e individuos. Los individuos se crean alternando la posición de la lista de índices de los cursos, y la población consiste en una simple lista de individuos."
   ]
  },
  {
   "cell_type": "code",
   "execution_count": 3,
   "metadata": {},
   "outputs": [],
   "source": [
    "toolbox = base.Toolbox()\n",
    "toolbox.register(\"indices\", random.sample, range(len(courses)), len(courses))\n",
    "toolbox.register(\"individual\", tools.initIterate, creator.Individual, toolbox.indices)\n",
    "toolbox.register(\"population\", tools.initRepeat, list, toolbox.individual)"
   ]
  },
  {
   "cell_type": "markdown",
   "metadata": {},
   "source": [
    "Ahora determinamos como calcular el fitness dado un individuo, el paso consiste que desde día 1 vamos sumando en orden de la lista el tiempo T y comprobamos por cada curso si los días acumulados se encuentra mayor que D días del mismo curso, en caso positivo se pararía de recorrer el individuo ya que los posteriores tampoco lo cumplirían. \n",
    "\n",
    "Finalmente devuelve el número de cursos y los días cursados en total como fitness."
   ]
  },
  {
   "cell_type": "code",
   "execution_count": 4,
   "metadata": {},
   "outputs": [],
   "source": [
    "def evalHorarioCursos(individual):\n",
    "    day = 1\n",
    "    n_courses = 0\n",
    "    for course in individual:\n",
    "        temp_day = day + courses[course][0]\n",
    "        if temp_day > courses[course][1]:\n",
    "            break\n",
    "        day = temp_day\n",
    "        n_courses += 1\n",
    "    return n_courses, day"
   ]
  },
  {
   "cell_type": "markdown",
   "metadata": {},
   "source": [
    "### Selección de los operadores del algoritmo genético.\n",
    "- Operador de cruce por Partialy Matched (consiste en un cruce parcial de los índices).\n",
    "- Operador de mutación por Shuffle Indexes con una probabilidad de 5% en cambiar de posición por cada índice.\n",
    "- Operador de selección por Tournament con un tamaño de torneo 3.\n",
    "- La función de fitness que hemos definido anteriormente."
   ]
  },
  {
   "cell_type": "code",
   "execution_count": 5,
   "metadata": {},
   "outputs": [],
   "source": [
    "toolbox.register(\"mate\", tools.cxPartialyMatched)\n",
    "toolbox.register(\"mutate\", tools.mutShuffleIndexes, indpb=0.05)\n",
    "toolbox.register(\"select\", tools.selTournament, tournsize=3)\n",
    "toolbox.register(\"evaluate\", evalHorarioCursos)"
   ]
  },
  {
   "cell_type": "markdown",
   "metadata": {},
   "source": [
    "Inicializamos una población y ejecutamos el algoritmo genético con los siguientes parámetros.\n",
    "- Número de generación: 50\n",
    "- Probabilidad de cruce: 70%\n",
    "- Probabilidad de mutación: 20%\n",
    "- Tamaño de la populación: 300"
   ]
  },
  {
   "cell_type": "code",
   "execution_count": 6,
   "metadata": {},
   "outputs": [
    {
     "name": "stdout",
     "output_type": "stream",
     "text": [
      "gen\tnevals\tavg \tstd     \tmin\tmax\n",
      "0  \t300   \t1.24\t0.499066\t1  \t3  \n",
      "1  \t224   \t1.41667\t0.596983\t1  \t4  \n",
      "2  \t219   \t1.71667\t0.640095\t1  \t4  \n",
      "3  \t250   \t1.87333\t0.723848\t1  \t4  \n",
      "4  \t228   \t2.04   \t0.80316 \t1  \t4  \n",
      "5  \t232   \t2.30667\t0.832239\t1  \t4  \n",
      "6  \t215   \t2.53333\t0.924962\t1  \t5  \n",
      "7  \t219   \t2.88333\t1.01146 \t1  \t5  \n",
      "8  \t234   \t3.14   \t0.996862\t1  \t5  \n",
      "9  \t230   \t3.45   \t1.00374 \t1  \t5  \n",
      "10 \t225   \t3.64667\t1.05601 \t1  \t5  \n",
      "11 \t229   \t3.93   \t1.05124 \t1  \t6  \n",
      "12 \t233   \t4.08333\t1.07845 \t1  \t6  \n",
      "13 \t217   \t4.36667\t0.930352\t2  \t6  \n",
      "14 \t208   \t4.39667\t1.0389  \t1  \t6  \n",
      "15 \t217   \t4.29   \t1.25136 \t1  \t7  \n",
      "16 \t223   \t4.54   \t1.08093 \t2  \t7  \n",
      "17 \t229   \t4.53667\t1.24445 \t1  \t7  \n",
      "18 \t221   \t4.60667\t1.28009 \t1  \t7  \n",
      "19 \t225   \t4.76667\t1.26711 \t1  \t7  \n",
      "20 \t222   \t5.20667\t1.16216 \t1  \t7  \n",
      "21 \t243   \t5.25   \t1.38353 \t1  \t7  \n",
      "22 \t223   \t5.61   \t1.38488 \t1  \t7  \n",
      "23 \t243   \t5.81333\t1.54655 \t1  \t7  \n",
      "24 \t228   \t6.22   \t1.57848 \t1  \t7  \n",
      "25 \t229   \t6.20667\t1.6585  \t1  \t7  \n",
      "26 \t234   \t6.00667\t1.94935 \t1  \t7  \n",
      "27 \t239   \t6.47   \t1.42446 \t1  \t7  \n",
      "28 \t216   \t6.66   \t1.22925 \t1  \t7  \n",
      "29 \t240   \t6.70333\t1.09331 \t1  \t7  \n",
      "30 \t229   \t6.66667\t1.12645 \t1  \t7  \n",
      "31 \t231   \t6.60333\t1.2699  \t1  \t7  \n",
      "32 \t245   \t6.59667\t1.30409 \t1  \t7  \n",
      "33 \t250   \t6.51667\t1.42935 \t1  \t7  \n",
      "34 \t233   \t6.73   \t1.00851 \t1  \t7  \n",
      "35 \t241   \t6.68667\t1.17834 \t1  \t7  \n",
      "36 \t253   \t6.75667\t0.947341\t1  \t7  \n",
      "37 \t224   \t6.65333\t1.13129 \t1  \t7  \n",
      "38 \t229   \t6.60333\t1.21627 \t1  \t7  \n",
      "39 \t233   \t6.73333\t1.0403  \t1  \t7  \n",
      "40 \t243   \t6.72667\t1.07329 \t1  \t7  \n",
      "41 \t210   \t6.84333\t0.765151\t2  \t7  \n",
      "42 \t252   \t6.54333\t1.34714 \t1  \t7  \n",
      "43 \t233   \t6.72333\t1.01986 \t1  \t7  \n",
      "44 \t235   \t6.71667\t1.06602 \t1  \t7  \n",
      "45 \t224   \t6.73   \t1.04743 \t1  \t7  \n",
      "46 \t207   \t6.59333\t1.31198 \t1  \t7  \n",
      "47 \t227   \t6.68667\t1.0623  \t1  \t7  \n",
      "48 \t225   \t6.82667\t0.746071\t1  \t7  \n",
      "49 \t225   \t6.72667\t0.919396\t1  \t7  \n",
      "50 \t214   \t6.74   \t0.9517  \t1  \t7  \n"
     ]
    }
   ],
   "source": [
    "import numpy\n",
    "from deap import algorithms\n",
    "\n",
    "def main():\n",
    "    # random.seed()\n",
    "    \n",
    "    NGEN = 50\n",
    "    CXPB = 0.7\n",
    "    MUTPB = 0.2\n",
    "    MU = 300\n",
    "\n",
    "    pop = toolbox.population(n=MU)\n",
    "    hof = tools.HallOfFame(1)\n",
    "    stats = tools.Statistics(lambda ind: ind.fitness.values[0])\n",
    "    stats.register(\"avg\", numpy.mean)\n",
    "    stats.register(\"std\", numpy.std)\n",
    "    stats.register(\"min\", numpy.min)\n",
    "    stats.register(\"max\", numpy.max)\n",
    "    \n",
    "    _, log = algorithms.eaSimple(pop, toolbox, CXPB, MUTPB, NGEN, stats=stats, halloffame=hof)\n",
    "    \n",
    "    return pop, stats, hof, log\n",
    "\n",
    "pop, stats, hof, log = main()"
   ]
  },
  {
   "cell_type": "markdown",
   "metadata": {},
   "source": [
    "En este momento, podemos observar como el fitness del mejor individuo de la población va mejorando cada generación en la gráfica."
   ]
  },
  {
   "cell_type": "code",
   "execution_count": 7,
   "metadata": {
    "scrolled": true
   },
   "outputs": [
    {
     "data": {
      "image/png": "[encoded data removed]",
      "text/plain": [
       "<Figure size 432x288 with 1 Axes>"
      ]
     },
     "metadata": {
      "needs_background": "light"
     },
     "output_type": "display_data"
    }
   ],
   "source": [
    "import matplotlib.pyplot as plt\n",
    "\n",
    "gen, avg, min_, max_ = log.select(\"gen\", \"avg\", \"min\", \"max\")\n",
    "\n",
    "plt.plot(gen, avg,  label=\"average\")\n",
    "plt.plot(gen, min_, label=\"minimum\")\n",
    "plt.plot(gen, max_, label=\"maximum\")\n",
    "\n",
    "plt.xlabel(\"Generation\")\n",
    "plt.ylabel(\"Fitness\")\n",
    "\n",
    "plt.legend(loc=\"lower right\")\n",
    "\n",
    "plt.show()"
   ]
  },
  {
   "cell_type": "markdown",
   "metadata": {},
   "source": [
    "Dada la siguiente lista de cursos formado por pares de (T, D) como input del problema:"
   ]
  },
  {
   "cell_type": "code",
   "execution_count": 8,
   "metadata": {},
   "outputs": [
    {
     "data": {
      "text/plain": [
       "[(2387, 6152),\n",
       " (7454, 8170),\n",
       " (6440, 9439),\n",
       " (5731, 9283),\n",
       " (8305, 9944),\n",
       " (1802, 3790),\n",
       " (1314, 8785),\n",
       " (4316, 4709),\n",
       " (3351, 6099),\n",
       " (3764, 6299),\n",
       " (3341, 4803),\n",
       " (2308, 3853),\n",
       " (5686, 8718),\n",
       " (6713, 7577),\n",
       " (6604, 8493),\n",
       " (9100, 9383),\n",
       " (6146, 6804),\n",
       " (2034, 3514),\n",
       " (93, 9969),\n",
       " (6481, 7086),\n",
       " (9276, 9443),\n",
       " (3157, 4526),\n",
       " (429, 4316),\n",
       " (7344, 9957),\n",
       " (6352, 6871),\n",
       " (9076, 9852),\n",
       " (860, 4909),\n",
       " (8309, 9772),\n",
       " (4749, 9586),\n",
       " (5550, 9877),\n",
       " (5625, 8599),\n",
       " (7923, 9569),\n",
       " (1015, 2676),\n",
       " (4914, 8474),\n",
       " (4138, 6103),\n",
       " (7167, 9271),\n",
       " (8086, 9933),\n",
       " (9547, 9678),\n",
       " (2412, 2889),\n",
       " (9591, 9759),\n",
       " (2699, 3147),\n",
       " (4509, 5501),\n",
       " (832, 4423),\n",
       " (5077, 9374),\n",
       " (3547, 8879),\n",
       " (9310, 9676),\n",
       " (5469, 9203),\n",
       " (206, 2075),\n",
       " (7791, 8581),\n",
       " (8607, 8851)]"
      ]
     },
     "execution_count": 8,
     "metadata": {},
     "output_type": "execute_result"
    }
   ],
   "source": [
    "courses"
   ]
  },
  {
   "cell_type": "markdown",
   "metadata": {},
   "source": [
    "Obtenemos como output la siguiente lista de índices como una posible solución del problema:"
   ]
  },
  {
   "cell_type": "code",
   "execution_count": 9,
   "metadata": {},
   "outputs": [
    {
     "data": {
      "text/plain": [
       "array('i', [47, 26, 22, 18, 6, 0, 44])"
      ]
     },
     "execution_count": 9,
     "metadata": {},
     "output_type": "execute_result"
    }
   ],
   "source": [
    "hof[0][:int(hof[0].fitness.values[0])]\n"
   ]
  },
  {
   "cell_type": "markdown",
   "metadata": {},
   "source": [
    "Con el siguiente fitness:"
   ]
  },
  {
   "cell_type": "code",
   "execution_count": 10,
   "metadata": {},
   "outputs": [
    {
     "data": {
      "text/plain": [
       "(7.0, 8837.0)"
      ]
     },
     "execution_count": 10,
     "metadata": {},
     "output_type": "execute_result"
    }
   ],
   "source": [
    "hof[0].fitness.values"
   ]
  },
  {
   "cell_type": "markdown",
   "metadata": {},
   "source": [
    "Finalmente, y más en concreto, obtenemos la siguiente lista de cursos con los pares (T, D) como solución (con el formato que pide el problema):"
   ]
  },
  {
   "cell_type": "code",
   "execution_count": 11,
   "metadata": {},
   "outputs": [
    {
     "data": {
      "text/plain": [
       "[(206, 2075),\n",
       " (860, 4909),\n",
       " (429, 4316),\n",
       " (93, 9969),\n",
       " (1314, 8785),\n",
       " (2387, 6152),\n",
       " (3547, 8879)]"
      ]
     },
     "execution_count": 11,
     "metadata": {},
     "output_type": "execute_result"
    }
   ],
   "source": [
    "[courses[i] for i in hof[0][:int(hof[0].fitness.values[0])]]"
   ]
  }
 ],
 "metadata": {
  "celltoolbar": "原始单元格格式",
  "kernelspec": {
   "display_name": "Python 3",
   "language": "python",
   "name": "python3"
  },
  "language_info": {
   "codemirror_mode": {
    "name": "ipython",
    "version": 3
   },
   "file_extension": ".py",
   "mimetype": "text/x-python",
   "name": "python",
   "nbconvert_exporter": "python",
   "pygments_lexer": "ipython3",
   "version": "3.6.12"
  }
 },
 "nbformat": 4,
 "nbformat_minor": 4
}
