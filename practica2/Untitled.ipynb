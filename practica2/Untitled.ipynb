{
 "cells": [
  {
   "cell_type": "markdown",
   "metadata": {},
   "source": [
    "# Practica 2\n",
    "## Prueba"
   ]
  },
  {
   "cell_type": "code",
   "execution_count": 39,
   "metadata": {},
   "outputs": [
    {
     "name": "stdout",
     "output_type": "stream",
     "text": [
      "here\n"
     ]
    }
   ],
   "source": [
    "from scipy.optimize import differential_evolution\n",
    "from group10.EA import EA\n",
    "from benchmarks.functions import sphere, ackley, rosenbrock, rastrigin, griewank, schwefel_2_21,schwefel_2_22, schwefel_1_2, extended_f_10, bohachevsky, schaffer\n",
    "import pandas as pd\n",
    "import numpy as np\n",
    "print('here')"
   ]
  },
  {
   "cell_type": "code",
   "execution_count": 40,
   "metadata": {
    "scrolled": true
   },
   "outputs": [],
   "source": [
    "def DE_biblio(m_function,bounds,p_size,iteration):\n",
    "    result = differential_evolution(m_function, bounds, popsize=p_size, polish=False, maxiter=iteration,strategy=\"rand1bin\")\n",
    "    return result"
   ]
  },
  {
   "cell_type": "code",
   "execution_count": 41,
   "metadata": {},
   "outputs": [],
   "source": [
    "def DE_propio(m_function,bounds,p_size,iteration):\n",
    "    miEA = EA(m_function, bounds, p_size)\n",
    "    miEA.run(iteration)\n",
    "    bestGenome = miEA.best()\n",
    "    return bestGenome"
   ]
  },
  {
   "cell_type": "code",
   "execution_count": 42,
   "metadata": {},
   "outputs": [],
   "source": [
    "resultMI={}\n",
    "benchmark=[sphere, ackley, rosenbrock, rastrigin, griewank, schwefel_2_21,\n",
    "             schwefel_2_22, schwefel_1_2, extended_f_10, bohachevsky, schaffer]\n",
    "for func in benchmark:\n",
    "    resultMI[func.__name__] = DE_propio(func, [(-100, 100)] * 10,50,100).solution\n",
    "# resultMI"
   ]
  },
  {
   "cell_type": "code",
   "execution_count": 43,
   "metadata": {},
   "outputs": [],
   "source": [
    "resultDE={}\n",
    "for func in benchmark:\n",
    "    resultDE[func.__name__] = DE_biblio(func, [(-100, 100)] * 10,50,1).x\n",
    "# resultDE"
   ]
  },
  {
   "cell_type": "code",
   "execution_count": 44,
   "outputs": [],
   "source": [
    "ind=['sphere', 'ackley', 'rosenbrock', 'rastrigin', 'griewank', 'schwefel_2_21',\n",
    "             'schwefel_2_22', 'schwefel_1_2', 'extended_f_10', 'bohachevsky', 'schaffer']\n",
    "col=['avg','std','min','max','med']"
   ],
   "metadata": {
    "collapsed": false,
    "pycharm": {
     "name": "#%%\n"
    }
   }
  },
  {
   "cell_type": "code",
   "execution_count": 45,
   "outputs": [
    {
     "data": {
      "text/plain": "               avg  std  min  max  med\nsphere         NaN  NaN  NaN  NaN  NaN\nackley         NaN  NaN  NaN  NaN  NaN\nrosenbrock     NaN  NaN  NaN  NaN  NaN\nrastrigin      NaN  NaN  NaN  NaN  NaN\ngriewank       NaN  NaN  NaN  NaN  NaN\nschwefel_2_21  NaN  NaN  NaN  NaN  NaN\nschwefel_2_22  NaN  NaN  NaN  NaN  NaN\nschwefel_1_2   NaN  NaN  NaN  NaN  NaN\nextended_f_10  NaN  NaN  NaN  NaN  NaN\nbohachevsky    NaN  NaN  NaN  NaN  NaN\nschaffer       NaN  NaN  NaN  NaN  NaN",
      "text/html": "<div>\n<style scoped>\n    .dataframe tbody tr th:only-of-type {\n        vertical-align: middle;\n    }\n\n    .dataframe tbody tr th {\n        vertical-align: top;\n    }\n\n    .dataframe thead th {\n        text-align: right;\n    }\n</style>\n<table border=\"1\" class=\"dataframe\">\n  <thead>\n    <tr style=\"text-align: right;\">\n      <th></th>\n      <th>avg</th>\n      <th>std</th>\n      <th>min</th>\n      <th>max</th>\n      <th>med</th>\n    </tr>\n  </thead>\n  <tbody>\n    <tr>\n      <th>sphere</th>\n      <td>NaN</td>\n      <td>NaN</td>\n      <td>NaN</td>\n      <td>NaN</td>\n      <td>NaN</td>\n    </tr>\n    <tr>\n      <th>ackley</th>\n      <td>NaN</td>\n      <td>NaN</td>\n      <td>NaN</td>\n      <td>NaN</td>\n      <td>NaN</td>\n    </tr>\n    <tr>\n      <th>rosenbrock</th>\n      <td>NaN</td>\n      <td>NaN</td>\n      <td>NaN</td>\n      <td>NaN</td>\n      <td>NaN</td>\n    </tr>\n    <tr>\n      <th>rastrigin</th>\n      <td>NaN</td>\n      <td>NaN</td>\n      <td>NaN</td>\n      <td>NaN</td>\n      <td>NaN</td>\n    </tr>\n    <tr>\n      <th>griewank</th>\n      <td>NaN</td>\n      <td>NaN</td>\n      <td>NaN</td>\n      <td>NaN</td>\n      <td>NaN</td>\n    </tr>\n    <tr>\n      <th>schwefel_2_21</th>\n      <td>NaN</td>\n      <td>NaN</td>\n      <td>NaN</td>\n      <td>NaN</td>\n      <td>NaN</td>\n    </tr>\n    <tr>\n      <th>schwefel_2_22</th>\n      <td>NaN</td>\n      <td>NaN</td>\n      <td>NaN</td>\n      <td>NaN</td>\n      <td>NaN</td>\n    </tr>\n    <tr>\n      <th>schwefel_1_2</th>\n      <td>NaN</td>\n      <td>NaN</td>\n      <td>NaN</td>\n      <td>NaN</td>\n      <td>NaN</td>\n    </tr>\n    <tr>\n      <th>extended_f_10</th>\n      <td>NaN</td>\n      <td>NaN</td>\n      <td>NaN</td>\n      <td>NaN</td>\n      <td>NaN</td>\n    </tr>\n    <tr>\n      <th>bohachevsky</th>\n      <td>NaN</td>\n      <td>NaN</td>\n      <td>NaN</td>\n      <td>NaN</td>\n      <td>NaN</td>\n    </tr>\n    <tr>\n      <th>schaffer</th>\n      <td>NaN</td>\n      <td>NaN</td>\n      <td>NaN</td>\n      <td>NaN</td>\n      <td>NaN</td>\n    </tr>\n  </tbody>\n</table>\n</div>"
     },
     "execution_count": 45,
     "metadata": {},
     "output_type": "execute_result"
    }
   ],
   "source": [
    "df_b=pd.DataFrame(index=ind,columns=col)\n"
   ],
   "metadata": {
    "collapsed": false,
    "pycharm": {
     "name": "#%%\n"
    }
   }
  },
  {
   "cell_type": "code",
   "execution_count": 46,
   "outputs": [
    {
     "data": {
      "text/plain": "               avg  std  min  max  med\nsphere         NaN  NaN  NaN  NaN  NaN\nackley         NaN  NaN  NaN  NaN  NaN\nrosenbrock     NaN  NaN  NaN  NaN  NaN\nrastrigin      NaN  NaN  NaN  NaN  NaN\ngriewank       NaN  NaN  NaN  NaN  NaN\nschwefel_2_21  NaN  NaN  NaN  NaN  NaN\nschwefel_2_22  NaN  NaN  NaN  NaN  NaN\nschwefel_1_2   NaN  NaN  NaN  NaN  NaN\nextended_f_10  NaN  NaN  NaN  NaN  NaN\nbohachevsky    NaN  NaN  NaN  NaN  NaN\nschaffer       NaN  NaN  NaN  NaN  NaN",
      "text/html": "<div>\n<style scoped>\n    .dataframe tbody tr th:only-of-type {\n        vertical-align: middle;\n    }\n\n    .dataframe tbody tr th {\n        vertical-align: top;\n    }\n\n    .dataframe thead th {\n        text-align: right;\n    }\n</style>\n<table border=\"1\" class=\"dataframe\">\n  <thead>\n    <tr style=\"text-align: right;\">\n      <th></th>\n      <th>avg</th>\n      <th>std</th>\n      <th>min</th>\n      <th>max</th>\n      <th>med</th>\n    </tr>\n  </thead>\n  <tbody>\n    <tr>\n      <th>sphere</th>\n      <td>NaN</td>\n      <td>NaN</td>\n      <td>NaN</td>\n      <td>NaN</td>\n      <td>NaN</td>\n    </tr>\n    <tr>\n      <th>ackley</th>\n      <td>NaN</td>\n      <td>NaN</td>\n      <td>NaN</td>\n      <td>NaN</td>\n      <td>NaN</td>\n    </tr>\n    <tr>\n      <th>rosenbrock</th>\n      <td>NaN</td>\n      <td>NaN</td>\n      <td>NaN</td>\n      <td>NaN</td>\n      <td>NaN</td>\n    </tr>\n    <tr>\n      <th>rastrigin</th>\n      <td>NaN</td>\n      <td>NaN</td>\n      <td>NaN</td>\n      <td>NaN</td>\n      <td>NaN</td>\n    </tr>\n    <tr>\n      <th>griewank</th>\n      <td>NaN</td>\n      <td>NaN</td>\n      <td>NaN</td>\n      <td>NaN</td>\n      <td>NaN</td>\n    </tr>\n    <tr>\n      <th>schwefel_2_21</th>\n      <td>NaN</td>\n      <td>NaN</td>\n      <td>NaN</td>\n      <td>NaN</td>\n      <td>NaN</td>\n    </tr>\n    <tr>\n      <th>schwefel_2_22</th>\n      <td>NaN</td>\n      <td>NaN</td>\n      <td>NaN</td>\n      <td>NaN</td>\n      <td>NaN</td>\n    </tr>\n    <tr>\n      <th>schwefel_1_2</th>\n      <td>NaN</td>\n      <td>NaN</td>\n      <td>NaN</td>\n      <td>NaN</td>\n      <td>NaN</td>\n    </tr>\n    <tr>\n      <th>extended_f_10</th>\n      <td>NaN</td>\n      <td>NaN</td>\n      <td>NaN</td>\n      <td>NaN</td>\n      <td>NaN</td>\n    </tr>\n    <tr>\n      <th>bohachevsky</th>\n      <td>NaN</td>\n      <td>NaN</td>\n      <td>NaN</td>\n      <td>NaN</td>\n      <td>NaN</td>\n    </tr>\n    <tr>\n      <th>schaffer</th>\n      <td>NaN</td>\n      <td>NaN</td>\n      <td>NaN</td>\n      <td>NaN</td>\n      <td>NaN</td>\n    </tr>\n  </tbody>\n</table>\n</div>"
     },
     "execution_count": 46,
     "metadata": {},
     "output_type": "execute_result"
    }
   ],
   "source": [
    "df_m=pd.DataFrame(index=ind,columns=col)\n"
   ],
   "metadata": {
    "collapsed": false,
    "pycharm": {
     "name": "#%%\n"
    }
   }
  },
  {
   "cell_type": "code",
   "execution_count": 47,
   "metadata": {},
   "outputs": [],
   "source": [
    "algNames = [\"MI\", \"DE\"]\n",
    "\n",
    "results_avg = {}\n",
    "results_std = {}\n",
    "results_min = {}\n",
    "results_max = {}\n",
    "results_median = {}\n",
    "\n",
    "\n",
    "\n",
    "for n in algNames:\n",
    "    results_avg[n] = []\n",
    "    results_std[n] = []\n",
    "    results_min[n] = []\n",
    "    results_max[n] = []\n",
    "    results_median[n] = []\n",
    "\n",
    "\n",
    "for func in benchmark:\n",
    "    f = func.__name__\n",
    "    results_avg[\"MI\"].append(np.mean(resultMI[f]))\n",
    "    results_avg[\"DE\"].append(np.mean(resultDE[f]))\n",
    "    results_std[\"MI\"].append(np.std(resultMI[f]))\n",
    "    results_std[\"DE\"].append(np.std(resultDE[f]))\n",
    "    results_min[\"MI\"].append(np.min(resultMI[f]))\n",
    "    results_min[\"DE\"].append(np.min(resultDE[f]))\n",
    "    results_max[\"MI\"].append(np.max(resultMI[f]))\n",
    "    results_max[\"DE\"].append(np.max(resultDE[f]))\n",
    "    results_median[\"MI\"].append(np.median(resultMI[f]))\n",
    "    results_median[\"DE\"].append(np.median(resultDE[f]))\n",
    "\n",
    "# results_avg\n"
   ]
  },
  {
   "cell_type": "code",
   "execution_count": 48,
   "outputs": [],
   "source": [
    "df_b.loc[:,'avg']=results_avg[\"MI\"]\n",
    "df_m.loc[:,'avg']=results_avg[\"DE\"]\n",
    "df_b.loc[:,'std']=results_std[\"MI\"]\n",
    "df_m.loc[:,'std']=results_std[\"DE\"]\n",
    "df_b.loc[:,'max']=results_max[\"MI\"]\n",
    "df_m.loc[:,'max']=results_max[\"DE\"]\n",
    "df_b.loc[:,'min']=results_min[\"MI\"]\n",
    "df_m.loc[:,'min']=results_min[\"DE\"]\n",
    "df_b.loc[:,'med']=results_median[\"MI\"]\n",
    "df_m.loc[:,'med']=results_median[\"DE\"]"
   ],
   "metadata": {
    "collapsed": false,
    "pycharm": {
     "name": "#%%\n"
    }
   }
  },
  {
   "cell_type": "code",
   "execution_count": 50,
   "outputs": [
    {
     "data": {
      "text/plain": "                     avg        std         min         max        med\nsphere         -0.453300   2.457012   -4.798060    3.189798  -0.398486\nackley         -6.400000  60.085273 -100.000000  100.000000 -12.000000\nrosenbrock     10.744729  29.935951   -3.236212  100.000000   1.269632\nrastrigin      -0.236270   3.718359   -4.780478    8.194577  -1.377066\ngriewank       -0.401515   1.993021   -2.748101    2.639544  -0.956872\nschwefel_2_21  -2.149777  10.246314  -17.095460   13.618354  -3.832787\nschwefel_2_22  -2.338879   3.753971  -10.367996    5.125635  -2.963538\nschwefel_1_2   -1.699405  31.994930  -62.346712   41.017167   8.002869\nextended_f_10  -6.041255  13.932564  -35.019057   11.275571  -1.721012\nbohachevsky     1.560168   2.068288   -1.815146    5.112477   1.270403\nschaffer       -2.816627  10.606935  -27.407230   16.404729  -1.439410",
      "text/html": "<div>\n<style scoped>\n    .dataframe tbody tr th:only-of-type {\n        vertical-align: middle;\n    }\n\n    .dataframe tbody tr th {\n        vertical-align: top;\n    }\n\n    .dataframe thead th {\n        text-align: right;\n    }\n</style>\n<table border=\"1\" class=\"dataframe\">\n  <thead>\n    <tr style=\"text-align: right;\">\n      <th></th>\n      <th>avg</th>\n      <th>std</th>\n      <th>min</th>\n      <th>max</th>\n      <th>med</th>\n    </tr>\n  </thead>\n  <tbody>\n    <tr>\n      <th>sphere</th>\n      <td>-0.453300</td>\n      <td>2.457012</td>\n      <td>-4.798060</td>\n      <td>3.189798</td>\n      <td>-0.398486</td>\n    </tr>\n    <tr>\n      <th>ackley</th>\n      <td>-6.400000</td>\n      <td>60.085273</td>\n      <td>-100.000000</td>\n      <td>100.000000</td>\n      <td>-12.000000</td>\n    </tr>\n    <tr>\n      <th>rosenbrock</th>\n      <td>10.744729</td>\n      <td>29.935951</td>\n      <td>-3.236212</td>\n      <td>100.000000</td>\n      <td>1.269632</td>\n    </tr>\n    <tr>\n      <th>rastrigin</th>\n      <td>-0.236270</td>\n      <td>3.718359</td>\n      <td>-4.780478</td>\n      <td>8.194577</td>\n      <td>-1.377066</td>\n    </tr>\n    <tr>\n      <th>griewank</th>\n      <td>-0.401515</td>\n      <td>1.993021</td>\n      <td>-2.748101</td>\n      <td>2.639544</td>\n      <td>-0.956872</td>\n    </tr>\n    <tr>\n      <th>schwefel_2_21</th>\n      <td>-2.149777</td>\n      <td>10.246314</td>\n      <td>-17.095460</td>\n      <td>13.618354</td>\n      <td>-3.832787</td>\n    </tr>\n    <tr>\n      <th>schwefel_2_22</th>\n      <td>-2.338879</td>\n      <td>3.753971</td>\n      <td>-10.367996</td>\n      <td>5.125635</td>\n      <td>-2.963538</td>\n    </tr>\n    <tr>\n      <th>schwefel_1_2</th>\n      <td>-1.699405</td>\n      <td>31.994930</td>\n      <td>-62.346712</td>\n      <td>41.017167</td>\n      <td>8.002869</td>\n    </tr>\n    <tr>\n      <th>extended_f_10</th>\n      <td>-6.041255</td>\n      <td>13.932564</td>\n      <td>-35.019057</td>\n      <td>11.275571</td>\n      <td>-1.721012</td>\n    </tr>\n    <tr>\n      <th>bohachevsky</th>\n      <td>1.560168</td>\n      <td>2.068288</td>\n      <td>-1.815146</td>\n      <td>5.112477</td>\n      <td>1.270403</td>\n    </tr>\n    <tr>\n      <th>schaffer</th>\n      <td>-2.816627</td>\n      <td>10.606935</td>\n      <td>-27.407230</td>\n      <td>16.404729</td>\n      <td>-1.439410</td>\n    </tr>\n  </tbody>\n</table>\n</div>"
     },
     "execution_count": 50,
     "metadata": {},
     "output_type": "execute_result"
    }
   ],
   "source": [
    "df_b"
   ],
   "metadata": {
    "collapsed": false,
    "pycharm": {
     "name": "#%%\n"
    }
   }
  },
  {
   "cell_type": "code",
   "execution_count": 51,
   "outputs": [
    {
     "data": {
      "text/plain": "                     avg        std        min        max        med\nsphere        -11.528598  28.304717 -49.454335  31.909756 -25.344774\nackley         -0.287189  53.727901 -81.293847  89.547748  -2.495894\nrosenbrock      0.492323  32.745521 -78.603381  37.483700  13.536511\nrastrigin      -3.848154  25.272499 -56.142946  42.559693  -1.909629\ngriewank        2.353044  28.238627 -32.188443  48.675150  -1.796914\nschwefel_2_21   2.246417  15.539951 -34.354674  21.034204   6.119049\nschwefel_2_22  11.564694  56.790187 -85.032493  96.584808   2.035964\nschwefel_1_2   -0.387029  36.133479 -62.108199  51.868592  -6.646588\nextended_f_10   7.277738  32.272297 -43.130711  87.880085   6.327970\nbohachevsky    -0.602086  31.626658 -50.287525  58.271342   3.220522\nschaffer      -10.954079  25.048952 -74.201457  23.947373  -1.788433",
      "text/html": "<div>\n<style scoped>\n    .dataframe tbody tr th:only-of-type {\n        vertical-align: middle;\n    }\n\n    .dataframe tbody tr th {\n        vertical-align: top;\n    }\n\n    .dataframe thead th {\n        text-align: right;\n    }\n</style>\n<table border=\"1\" class=\"dataframe\">\n  <thead>\n    <tr style=\"text-align: right;\">\n      <th></th>\n      <th>avg</th>\n      <th>std</th>\n      <th>min</th>\n      <th>max</th>\n      <th>med</th>\n    </tr>\n  </thead>\n  <tbody>\n    <tr>\n      <th>sphere</th>\n      <td>-11.528598</td>\n      <td>28.304717</td>\n      <td>-49.454335</td>\n      <td>31.909756</td>\n      <td>-25.344774</td>\n    </tr>\n    <tr>\n      <th>ackley</th>\n      <td>-0.287189</td>\n      <td>53.727901</td>\n      <td>-81.293847</td>\n      <td>89.547748</td>\n      <td>-2.495894</td>\n    </tr>\n    <tr>\n      <th>rosenbrock</th>\n      <td>0.492323</td>\n      <td>32.745521</td>\n      <td>-78.603381</td>\n      <td>37.483700</td>\n      <td>13.536511</td>\n    </tr>\n    <tr>\n      <th>rastrigin</th>\n      <td>-3.848154</td>\n      <td>25.272499</td>\n      <td>-56.142946</td>\n      <td>42.559693</td>\n      <td>-1.909629</td>\n    </tr>\n    <tr>\n      <th>griewank</th>\n      <td>2.353044</td>\n      <td>28.238627</td>\n      <td>-32.188443</td>\n      <td>48.675150</td>\n      <td>-1.796914</td>\n    </tr>\n    <tr>\n      <th>schwefel_2_21</th>\n      <td>2.246417</td>\n      <td>15.539951</td>\n      <td>-34.354674</td>\n      <td>21.034204</td>\n      <td>6.119049</td>\n    </tr>\n    <tr>\n      <th>schwefel_2_22</th>\n      <td>11.564694</td>\n      <td>56.790187</td>\n      <td>-85.032493</td>\n      <td>96.584808</td>\n      <td>2.035964</td>\n    </tr>\n    <tr>\n      <th>schwefel_1_2</th>\n      <td>-0.387029</td>\n      <td>36.133479</td>\n      <td>-62.108199</td>\n      <td>51.868592</td>\n      <td>-6.646588</td>\n    </tr>\n    <tr>\n      <th>extended_f_10</th>\n      <td>7.277738</td>\n      <td>32.272297</td>\n      <td>-43.130711</td>\n      <td>87.880085</td>\n      <td>6.327970</td>\n    </tr>\n    <tr>\n      <th>bohachevsky</th>\n      <td>-0.602086</td>\n      <td>31.626658</td>\n      <td>-50.287525</td>\n      <td>58.271342</td>\n      <td>3.220522</td>\n    </tr>\n    <tr>\n      <th>schaffer</th>\n      <td>-10.954079</td>\n      <td>25.048952</td>\n      <td>-74.201457</td>\n      <td>23.947373</td>\n      <td>-1.788433</td>\n    </tr>\n  </tbody>\n</table>\n</div>"
     },
     "execution_count": 51,
     "metadata": {},
     "output_type": "execute_result"
    }
   ],
   "source": [
    "df_m"
   ],
   "metadata": {
    "collapsed": false,
    "pycharm": {
     "name": "#%%\n"
    }
   }
  },
  {
   "cell_type": "code",
   "execution_count": 49,
   "metadata": {
    "pycharm": {
     "name": "#%%\n"
    }
   },
   "outputs": [
    {
     "data": {
      "text/plain": "          MI        DE\nMI  1.000000  0.831055\nDE  0.831055  1.000000",
      "text/html": "<div>\n<style scoped>\n    .dataframe tbody tr th:only-of-type {\n        vertical-align: middle;\n    }\n\n    .dataframe tbody tr th {\n        vertical-align: top;\n    }\n\n    .dataframe thead th {\n        text-align: right;\n    }\n</style>\n<table border=\"1\" class=\"dataframe\">\n  <thead>\n    <tr style=\"text-align: right;\">\n      <th></th>\n      <th>MI</th>\n      <th>DE</th>\n    </tr>\n  </thead>\n  <tbody>\n    <tr>\n      <th>MI</th>\n      <td>1.000000</td>\n      <td>0.831055</td>\n    </tr>\n    <tr>\n      <th>DE</th>\n      <td>0.831055</td>\n      <td>1.000000</td>\n    </tr>\n  </tbody>\n</table>\n</div>"
     },
     "execution_count": 49,
     "metadata": {},
     "output_type": "execute_result"
    }
   ],
   "source": [
    "import scikit_posthocs as sp\n",
    "\n",
    "data = pd.DataFrame({\"algs\": [\"MI\" ]*len(results_avg[\"MI\"]) +\n",
    "                             [\"DE\"]*len(results_avg[\"DE\"]) ,\n",
    "                     \"vals\": results_avg[\"MI\"] +\n",
    "                             results_avg[\"DE\"] })\n",
    "\n",
    "sp.posthoc_wilcoxon(data, val_col='vals', group_col='algs', p_adjust = 'holm')\n",
    "\n",
    "\n"
   ]
  }
 ],
 "metadata": {
  "kernelspec": {
   "display_name": "Python 3",
   "language": "python",
   "name": "python3"
  },
  "language_info": {
   "codemirror_mode": {
    "name": "ipython",
    "version": 3
   },
   "file_extension": ".py",
   "mimetype": "text/x-python",
   "name": "python",
   "nbconvert_exporter": "python",
   "pygments_lexer": "ipython3",
   "version": "3.8.3"
  }
 },
 "nbformat": 4,
 "nbformat_minor": 4
}