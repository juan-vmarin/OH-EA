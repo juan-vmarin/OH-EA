{
 "cells": [
  {
   "cell_type": "markdown",
   "metadata": {},
   "source": [
    "# Memoria\n",
    "## Grupo 10\n",
    "### Integrantes\n",
    "- Xiao Peng Ye\n",
    "- Zhengyu Ye\n",
    "- Juan Diego Valencia Marin"
   ]
  },
  {
   "cell_type": "markdown",
   "metadata": {},
   "source": [
    "## Índice\n",
    "1. Introducción\n",
    "2. Algoritmo implementado\n",
    "3. Funcionamiento específico\n",
    "4. Comparación con otro algoritmo\n",
    "5. Conclusiones\n",
    "6. Bibliografía"
   ]
  },
  {
   "cell_type": "markdown",
   "metadata": {},
   "source": [
    "## Introducción\n",
    "Esta práctica se basa en la implementación de un algoritmo evolutivo y de su comparación con otro de una biblioteca estudiada en esta asignatura, en concreto se realizará el algoritmo de [**Evolución Diferencial (DE)**](https://es.wikipedia.org/wiki/Evoluci%C3%B3n_diferencial) y la biblioteca [**SciPy**](https://docs.scipy.org/doc/scipy/reference/) donde encontraremos este mismo algoritmo de evolución diferencial.\n",
    "\n",
    "El algoritmo Evolución Diferencial es un método de optimización que está dentro de la computación evolutiva (rama de la inteligencia artificial inspirada en los mecanismos de la evolución biológica).\n",
    "\n",
    "La biblioteca SciPy, que viene de las siglas Scientific Python, es una biblioteca de cálculo científico que proporciona funciones de utilidad para optimización, estadísticas y procesamiento de señales.\n"
   ]
  },
  {
   "cell_type": "markdown",
   "metadata": {},
   "source": [
    "## Algoritmo implementado\n",
    "El algoritmo de **Evolución Diferencial (DE)** ha sido el realizado en esta práctica, este algoritmo tiene una configuración específica, la *mutación se utiliza la estrategia (de/rand/1)*, *selección de forma uniforme*, *cruzamiento binomial* y un *reemplazo elitista y posición a posición*.\n",
    "\n",
    "La idea del DE es generar una población de nuevas soluciones a partir de perturbar soluciones pertenecientes a la población de ese momento.\n",
    "\n",
    "El funcionamiento de este algoritmo es el siguiente:\n",
    "\n",
    "1. Crear una población inicial.\n",
    "2. Determinar un individuo de la población en función de la estrategia de selección.\n",
    "3. Generar nuevos individuos según el operador de mutación.\n",
    "4. Aplicar el cruzamiento/recombinación.\n",
    "5. Reemplazar el individuo seleccionado.\n",
    "6. Volver al paso 2 hasta obtener la mejor solución."
   ]
  },
  {
   "cell_type": "markdown",
   "metadata": {},
   "source": [
    "## Funcionamiento específico\n",
    "- **Uniform Selection.**\n",
    "\n",
    "    Se escogen tres vectores diferentes de forma aleatoria dentro de la población obtenida, con los que trabajaremos junto al **Target vector** del que se hablará más adelante. A estos tres vectores se les llama **Donor vectors**.\n",
    "    \n",
    "\t\n",
    "- **Mutation (de/rand/1).**\n",
    "\t\n",
    "    Se utiliza la estrategia de/rand/1, donde se escogen tres vectores diferentes de forma aleatoria, . A continuación se realiza la siguiente operación:\n",
    "    \n",
    "    V<sub>i,g</sub> = x<sub>r<sub>0</sub>,g</sub> + F(x<sub>r<sub>1</sub>,g</sub> − x<sub>r<sub>2</sub>,g</sub>)\n",
    "         Donde:\n",
    "         - F es una constante entre 0 y 2, 1 en nuestro caso.\n",
    "         - V<sub>i,g</sub> es el resultado de la mutación.\n",
    "\n",
    "\n",
    "- **Binomial Crossover.**\n",
    "\n",
    "  En el cruzamiento binomial, en donde aparece el **trial vector (u<sub>i,g</sub>)**, creado por los elementos del target vector (x<sub>i,g</sub>) y del donor vector (v<sub>i,g</sub>), además de una probabilidad **CR**, 0.1 en nuestro caso.\n",
    "  \n",
    "  u<sub>i,g</sub> =\n",
    "  \n",
    "  v<sub>i,g</sub> si rand <= CR\n",
    "         o\n",
    "  x<sub>i,g</sub> si rand > CR\n",
    "      Donde:\n",
    "      - *rand* es un número aleatorio comprendido entre 0 y 1.\n",
    "      - *CR* es la probabilidad antes descrita.\n",
    "\n",
    "\n",
    "- **Elitist Replacement.**\n",
    "\n",
    "\tEste reemplazo es el más habitual, en el que se compara el *target vector* con el *trial vector* y aquel con la función de menor valor es el admitido en la siguiente generación.\n",
    "    "
   ]
  },
  {
   "cell_type": "markdown",
   "metadata": {},
   "source": [
    "## Comparación"
   ]
  },
  {
   "cell_type": "markdown",
   "metadata": {},
   "source": [
    "En este apartado se procederá a realizar la comparación del algoritmo **DE** implementado por nosotros, con el de la biblioteca. Se incluirán los resultados de ambas implementaciones respresentados mediante tablas y algunos comentarios explicativos."
   ]
  },
  {
   "cell_type": "markdown",
   "metadata": {},
   "source": [
    "En los siguientes fragmentos, se importan las librerías y las funciones a utilizar, junto con la creación de ambos algoritmos.\n",
    "En particular, se utiliza la optimización de SciPy, que proporciona funciones para maximizar o minimizar funciones objetivas. Y algunas de las [funciones de optimización](https://en.wikipedia.org/wiki/Test_functions_for_optimization) como la *sphere, ackley, rosenbrock,...* entre otras, dentro de la librería [Benchmarks](https://deap.readthedocs.io/en/master/api/benchmarks.html#deap.benchmarks.sphere). "
   ]
  },
  {
   "cell_type": "code",
   "execution_count": 53,
   "metadata": {},
   "outputs": [],
   "source": [
    "from scipy.optimize import differential_evolution\n",
    "from group10.EA import EA\n",
    "from benchmarks.functions import sphere, ackley, rosenbrock, rastrigin, griewank, schwefel_2_21,schwefel_2_22, schwefel_1_2, extended_f_10, bohachevsky, schaffer\n",
    "import pandas as pd\n",
    "import numpy as np\n",
    "import pyade.sade as sade"
   ]
  },
  {
   "cell_type": "code",
   "execution_count": 54,
   "metadata": {
    "scrolled": true
   },
   "outputs": [],
   "source": [
    "def DE_scipy(m_function,bounds,p_size,iteration):\n",
    "    result = differential_evolution(m_function, bounds, popsize=p_size, polish=False, maxiter=iteration,strategy=\"rand1bin\")\n",
    "    return result"
   ]
  },
  {
   "cell_type": "code",
   "execution_count": 55,
   "metadata": {},
   "outputs": [],
   "source": [
    "def DE_propio(m_function,bounds,p_size,iteration):\n",
    "    miEA = EA(m_function, bounds, p_size)\n",
    "    miEA.run(iteration)\n",
    "    bestGenome = miEA.best()\n",
    "    return bestGenome"
   ]
  },
  {
   "cell_type": "code",
   "execution_count": 56,
   "outputs": [],
   "source": [
    "def DE_SADE(m_function,bounds,probsize,p_size,iteration):\n",
    "    params = sade.get_default_params(dim=probsize)\n",
    "    params['bounds'         ] = np.array([[bounds[0], bounds[1]]] * probsize)\n",
    "    params['max_evals'      ] = p_size*iteration\n",
    "    params['population_size'] = p_size\n",
    "    params['func'           ] = m_function\n",
    "    results = []\n",
    "    # for i in range(iteration):\n",
    "    _, fitness = sade.apply(**params)\n",
    "    results.append(fitness)\n",
    "\n",
    "    return results"
   ],
   "metadata": {
    "collapsed": false,
    "pycharm": {
     "name": "#%%\n"
    }
   }
  },
  {
   "cell_type": "markdown",
   "metadata": {},
   "source": [
    "En esta parte, se procede a (poner algo) en ambas implementaciones con las funciones de la librería benchmarks. **OJOOOOO!!!!**"
   ]
  },
  {
   "cell_type": "code",
   "execution_count": 57,
   "metadata": {},
   "outputs": [],
   "source": [
    "benchmark=[sphere, ackley, rosenbrock, rastrigin, griewank, schwefel_2_21,\n",
    "             schwefel_2_22, schwefel_1_2, extended_f_10, bohachevsky, schaffer]"
   ]
  },
  {
   "cell_type": "code",
   "execution_count": 58,
   "outputs": [],
   "source": [
    "resultMI={}\n",
    "\n",
    "for func in benchmark:\n",
    "    resultMI[func.__name__] = DE_propio(func, [(-100, 100)] * 10,50,100).solution"
   ],
   "metadata": {
    "collapsed": false,
    "pycharm": {
     "name": "#%%\n"
    }
   }
  },
  {
   "cell_type": "code",
   "execution_count": 59,
   "metadata": {},
   "outputs": [],
   "source": [
    "resultDE={}\n",
    "for func in benchmark:\n",
    "    resultDE[func.__name__] = DE_scipy(func, [(-100, 100)] * 10,50,1).x\n",
    "\n"
   ]
  },
  {
   "cell_type": "code",
   "execution_count": 60,
   "outputs": [],
   "source": [
    "resultSADE={}\n",
    "for func in benchmark:\n",
    "    resultSADE[func.__name__] = DE_SADE(func, (-100, 100), 10,50,1)\n",
    "\n"
   ],
   "metadata": {
    "collapsed": false,
    "pycharm": {
     "name": "#%%\n"
    }
   }
  },
  {
   "cell_type": "markdown",
   "metadata": {},
   "source": [
    "Ahora se procede a obtener los resultados y almacenarlos en un par de tablas para falicitar su visualización y comprensión. Se obtendrán algunos valores estadísticos como la media, desviación, mínimo, máximo y mediana."
   ]
  },
  {
   "cell_type": "code",
   "execution_count": 61,
   "metadata": {
    "pycharm": {
     "name": "#%%\n"
    }
   },
   "outputs": [],
   "source": [
    "ind=['sphere', 'ackley', 'rosenbrock', 'rastrigin', 'griewank', 'schwefel_2_21',\n",
    "             'schwefel_2_22', 'schwefel_1_2', 'extended_f_10', 'bohachevsky', 'schaffer']\n",
    "col=['avg','std','min','max','med']"
   ]
  },
  {
   "cell_type": "code",
   "execution_count": 62,
   "metadata": {
    "pycharm": {
     "name": "#%%\n"
    }
   },
   "outputs": [],
   "source": [
    "df_b=pd.DataFrame(index=ind,columns=col)"
   ]
  },
  {
   "cell_type": "code",
   "execution_count": 63,
   "metadata": {
    "pycharm": {
     "name": "#%%\n"
    }
   },
   "outputs": [],
   "source": [
    "df_m=pd.DataFrame(index=ind,columns=col)"
   ]
  },
  {
   "cell_type": "code",
   "execution_count": 64,
   "outputs": [],
   "source": [
    "df_d=pd.DataFrame(index=ind,columns=col)"
   ],
   "metadata": {
    "collapsed": false,
    "pycharm": {
     "name": "#%%\n"
    }
   }
  },
  {
   "cell_type": "markdown",
   "metadata": {},
   "source": [
    "Una vez creadas las tablas, se procede a guardar los datos para poder visualizarlos."
   ]
  },
  {
   "cell_type": "code",
   "execution_count": 65,
   "metadata": {},
   "outputs": [],
   "source": [
    "algNames = [\"MI\", \"DE\",\"SADE\"]\n",
    "\n",
    "results_avg = {}\n",
    "results_std = {}\n",
    "results_min = {}\n",
    "results_max = {}\n",
    "results_median = {}\n",
    "\n",
    "\n",
    "for n in algNames:\n",
    "    results_avg[n] = []\n",
    "    results_std[n] = []\n",
    "    results_min[n] = []\n",
    "    results_max[n] = []\n",
    "    results_median[n] = []\n",
    "\n",
    "\n",
    "for func in benchmark:\n",
    "    f = func.__name__\n",
    "    results_avg[\"MI\"].append(np.mean(resultMI[f]))\n",
    "    results_avg[\"DE\"].append(np.mean(resultDE[f]))\n",
    "    results_avg[\"SADE\"].append(np.mean(resultSADE[f]))\n",
    "    results_std[\"MI\"].append(np.std(resultMI[f]))\n",
    "    results_std[\"DE\"].append(np.std(resultDE[f]))\n",
    "    results_std[\"SADE\"].append(np.std(resultSADE[f]))\n",
    "    results_min[\"MI\"].append(np.min(resultMI[f]))\n",
    "    results_min[\"DE\"].append(np.min(resultDE[f]))\n",
    "    results_min[\"SADE\"].append(np.min(resultSADE[f]))\n",
    "    results_max[\"MI\"].append(np.max(resultMI[f]))\n",
    "    results_max[\"DE\"].append(np.max(resultDE[f]))\n",
    "    results_max[\"SADE\"].append(np.max(resultSADE[f]))\n",
    "    results_median[\"MI\"].append(np.median(resultMI[f]))\n",
    "    results_median[\"DE\"].append(np.median(resultDE[f]))\n",
    "    results_median[\"SADE\"].append(np.median(resultSADE[f]))"
   ]
  },
  {
   "cell_type": "code",
   "execution_count": 66,
   "metadata": {
    "pycharm": {
     "name": "#%%\n"
    }
   },
   "outputs": [],
   "source": [
    "df_b.loc[:,'avg']=results_avg[\"MI\"]\n",
    "df_m.loc[:,'avg']=results_avg[\"DE\"]\n",
    "df_d.loc[:,'avg']=results_avg[\"SADE\"]\n",
    "df_b.loc[:,'std']=results_std[\"MI\"]\n",
    "df_m.loc[:,'std']=results_std[\"DE\"]\n",
    "df_d.loc[:,'std']=results_std[\"SADE\"]\n",
    "df_b.loc[:,'max']=results_max[\"MI\"]\n",
    "df_m.loc[:,'max']=results_max[\"DE\"]\n",
    "df_d.loc[:,'max']=results_max[\"SADE\"]\n",
    "df_b.loc[:,'min']=results_min[\"MI\"]\n",
    "df_m.loc[:,'min']=results_min[\"DE\"]\n",
    "df_d.loc[:,'min']=results_min[\"SADE\"]\n",
    "df_b.loc[:,'med']=results_median[\"MI\"]\n",
    "df_m.loc[:,'med']=results_median[\"DE\"]\n",
    "df_d.loc[:,'med']=results_median[\"SADE\"]"
   ]
  },
  {
   "cell_type": "markdown",
   "metadata": {},
   "source": [
    "### Visualización de las tablas"
   ]
  },
  {
   "cell_type": "markdown",
   "metadata": {},
   "source": [
    "- **Tabla de DE de la biblioteca scipy:**"
   ]
  },
  {
   "cell_type": "code",
   "execution_count": 67,
   "metadata": {
    "pycharm": {
     "name": "#%%\n"
    },
    "scrolled": false
   },
   "outputs": [
    {
     "data": {
      "text/plain": "                     avg        std         min         max        med\nsphere         -0.283663   2.433232   -3.302627    3.822544  -0.897659\nackley         23.999892  54.051819  -68.000000  100.000000  28.000000\nrosenbrock    -12.078787  29.614070 -100.000000    3.934982  -3.328594\nrastrigin       1.545868   2.821244   -3.540751    7.678521   1.121028\ngriewank       -1.344801   1.492276   -4.149187    0.748810  -1.098967\nschwefel_2_21   3.378821   9.417666  -13.392439   14.746390   1.818928\nschwefel_2_22   0.612901   3.585757   -4.910817    9.292363   0.213889\nschwefel_1_2   -0.517860  21.872414  -26.795034   37.342893  -8.267620\nextended_f_10   0.695182   4.806391  -11.616317    8.189149   1.997681\nbohachevsky    -0.171184   3.705893   -9.844351    3.310118   1.532343\nschaffer        0.174257   7.855445  -13.797264   10.020385   0.650730",
      "text/html": "<div>\n<style scoped>\n    .dataframe tbody tr th:only-of-type {\n        vertical-align: middle;\n    }\n\n    .dataframe tbody tr th {\n        vertical-align: top;\n    }\n\n    .dataframe thead th {\n        text-align: right;\n    }\n</style>\n<table border=\"1\" class=\"dataframe\">\n  <thead>\n    <tr style=\"text-align: right;\">\n      <th></th>\n      <th>avg</th>\n      <th>std</th>\n      <th>min</th>\n      <th>max</th>\n      <th>med</th>\n    </tr>\n  </thead>\n  <tbody>\n    <tr>\n      <th>sphere</th>\n      <td>-0.283663</td>\n      <td>2.433232</td>\n      <td>-3.302627</td>\n      <td>3.822544</td>\n      <td>-0.897659</td>\n    </tr>\n    <tr>\n      <th>ackley</th>\n      <td>23.999892</td>\n      <td>54.051819</td>\n      <td>-68.000000</td>\n      <td>100.000000</td>\n      <td>28.000000</td>\n    </tr>\n    <tr>\n      <th>rosenbrock</th>\n      <td>-12.078787</td>\n      <td>29.614070</td>\n      <td>-100.000000</td>\n      <td>3.934982</td>\n      <td>-3.328594</td>\n    </tr>\n    <tr>\n      <th>rastrigin</th>\n      <td>1.545868</td>\n      <td>2.821244</td>\n      <td>-3.540751</td>\n      <td>7.678521</td>\n      <td>1.121028</td>\n    </tr>\n    <tr>\n      <th>griewank</th>\n      <td>-1.344801</td>\n      <td>1.492276</td>\n      <td>-4.149187</td>\n      <td>0.748810</td>\n      <td>-1.098967</td>\n    </tr>\n    <tr>\n      <th>schwefel_2_21</th>\n      <td>3.378821</td>\n      <td>9.417666</td>\n      <td>-13.392439</td>\n      <td>14.746390</td>\n      <td>1.818928</td>\n    </tr>\n    <tr>\n      <th>schwefel_2_22</th>\n      <td>0.612901</td>\n      <td>3.585757</td>\n      <td>-4.910817</td>\n      <td>9.292363</td>\n      <td>0.213889</td>\n    </tr>\n    <tr>\n      <th>schwefel_1_2</th>\n      <td>-0.517860</td>\n      <td>21.872414</td>\n      <td>-26.795034</td>\n      <td>37.342893</td>\n      <td>-8.267620</td>\n    </tr>\n    <tr>\n      <th>extended_f_10</th>\n      <td>0.695182</td>\n      <td>4.806391</td>\n      <td>-11.616317</td>\n      <td>8.189149</td>\n      <td>1.997681</td>\n    </tr>\n    <tr>\n      <th>bohachevsky</th>\n      <td>-0.171184</td>\n      <td>3.705893</td>\n      <td>-9.844351</td>\n      <td>3.310118</td>\n      <td>1.532343</td>\n    </tr>\n    <tr>\n      <th>schaffer</th>\n      <td>0.174257</td>\n      <td>7.855445</td>\n      <td>-13.797264</td>\n      <td>10.020385</td>\n      <td>0.650730</td>\n    </tr>\n  </tbody>\n</table>\n</div>"
     },
     "execution_count": 67,
     "metadata": {},
     "output_type": "execute_result"
    }
   ],
   "source": [
    "df_b"
   ]
  },
  {
   "cell_type": "markdown",
   "source": [
    "- **Tabla de DE de la biblioteca SADE:**"
   ],
   "metadata": {
    "collapsed": false
   }
  },
  {
   "cell_type": "code",
   "execution_count": 68,
   "outputs": [
    {
     "data": {
      "text/plain": "                     avg        std         min         max        med\nsphere         -0.283663   2.433232   -3.302627    3.822544  -0.897659\nackley         23.999892  54.051819  -68.000000  100.000000  28.000000\nrosenbrock    -12.078787  29.614070 -100.000000    3.934982  -3.328594\nrastrigin       1.545868   2.821244   -3.540751    7.678521   1.121028\ngriewank       -1.344801   1.492276   -4.149187    0.748810  -1.098967\nschwefel_2_21   3.378821   9.417666  -13.392439   14.746390   1.818928\nschwefel_2_22   0.612901   3.585757   -4.910817    9.292363   0.213889\nschwefel_1_2   -0.517860  21.872414  -26.795034   37.342893  -8.267620\nextended_f_10   0.695182   4.806391  -11.616317    8.189149   1.997681\nbohachevsky    -0.171184   3.705893   -9.844351    3.310118   1.532343\nschaffer        0.174257   7.855445  -13.797264   10.020385   0.650730",
      "text/html": "<div>\n<style scoped>\n    .dataframe tbody tr th:only-of-type {\n        vertical-align: middle;\n    }\n\n    .dataframe tbody tr th {\n        vertical-align: top;\n    }\n\n    .dataframe thead th {\n        text-align: right;\n    }\n</style>\n<table border=\"1\" class=\"dataframe\">\n  <thead>\n    <tr style=\"text-align: right;\">\n      <th></th>\n      <th>avg</th>\n      <th>std</th>\n      <th>min</th>\n      <th>max</th>\n      <th>med</th>\n    </tr>\n  </thead>\n  <tbody>\n    <tr>\n      <th>sphere</th>\n      <td>-0.283663</td>\n      <td>2.433232</td>\n      <td>-3.302627</td>\n      <td>3.822544</td>\n      <td>-0.897659</td>\n    </tr>\n    <tr>\n      <th>ackley</th>\n      <td>23.999892</td>\n      <td>54.051819</td>\n      <td>-68.000000</td>\n      <td>100.000000</td>\n      <td>28.000000</td>\n    </tr>\n    <tr>\n      <th>rosenbrock</th>\n      <td>-12.078787</td>\n      <td>29.614070</td>\n      <td>-100.000000</td>\n      <td>3.934982</td>\n      <td>-3.328594</td>\n    </tr>\n    <tr>\n      <th>rastrigin</th>\n      <td>1.545868</td>\n      <td>2.821244</td>\n      <td>-3.540751</td>\n      <td>7.678521</td>\n      <td>1.121028</td>\n    </tr>\n    <tr>\n      <th>griewank</th>\n      <td>-1.344801</td>\n      <td>1.492276</td>\n      <td>-4.149187</td>\n      <td>0.748810</td>\n      <td>-1.098967</td>\n    </tr>\n    <tr>\n      <th>schwefel_2_21</th>\n      <td>3.378821</td>\n      <td>9.417666</td>\n      <td>-13.392439</td>\n      <td>14.746390</td>\n      <td>1.818928</td>\n    </tr>\n    <tr>\n      <th>schwefel_2_22</th>\n      <td>0.612901</td>\n      <td>3.585757</td>\n      <td>-4.910817</td>\n      <td>9.292363</td>\n      <td>0.213889</td>\n    </tr>\n    <tr>\n      <th>schwefel_1_2</th>\n      <td>-0.517860</td>\n      <td>21.872414</td>\n      <td>-26.795034</td>\n      <td>37.342893</td>\n      <td>-8.267620</td>\n    </tr>\n    <tr>\n      <th>extended_f_10</th>\n      <td>0.695182</td>\n      <td>4.806391</td>\n      <td>-11.616317</td>\n      <td>8.189149</td>\n      <td>1.997681</td>\n    </tr>\n    <tr>\n      <th>bohachevsky</th>\n      <td>-0.171184</td>\n      <td>3.705893</td>\n      <td>-9.844351</td>\n      <td>3.310118</td>\n      <td>1.532343</td>\n    </tr>\n    <tr>\n      <th>schaffer</th>\n      <td>0.174257</td>\n      <td>7.855445</td>\n      <td>-13.797264</td>\n      <td>10.020385</td>\n      <td>0.650730</td>\n    </tr>\n  </tbody>\n</table>\n</div>"
     },
     "execution_count": 68,
     "metadata": {},
     "output_type": "execute_result"
    }
   ],
   "source": [
    "df_b"
   ],
   "metadata": {
    "collapsed": false,
    "pycharm": {
     "name": "#%%\n"
    }
   }
  },
  {
   "cell_type": "markdown",
   "metadata": {
    "pycharm": {
     "name": "#%% md\n"
    }
   },
   "source": [
    "- **Tabla de DE con nuestra implementación:**"
   ]
  },
  {
   "cell_type": "code",
   "execution_count": 69,
   "metadata": {
    "pycharm": {
     "name": "#%%\n"
    },
    "scrolled": true
   },
   "outputs": [
    {
     "data": {
      "text/plain": "                     avg        std        min        max        med\nsphere          1.668487  25.453226 -42.059266  44.023816   9.854872\nackley         -1.498059  46.340006 -86.789390  75.195269 -13.841070\nrosenbrock     -6.614378  32.191904 -61.239254  52.802604   0.475426\nrastrigin      -0.785315  26.802924 -47.334065  38.852907   8.422518\ngriewank       -6.206126  27.871874 -51.821161  31.534402 -10.269287\nschwefel_2_21  -8.550278  20.813815 -48.864954  19.937451  -7.424768\nschwefel_2_22  -9.481708  45.620855 -90.473735  82.494146  -1.704723\nschwefel_1_2    0.221065  32.604286 -45.421517  60.952512  -2.178406\nextended_f_10  14.608415  19.080113 -11.705082  51.313485  13.715991\nbohachevsky    -9.121662  24.162465 -55.960043  28.069295 -11.772329\nschaffer       12.042855  18.650137 -19.809583  38.839710   6.578480",
      "text/html": "<div>\n<style scoped>\n    .dataframe tbody tr th:only-of-type {\n        vertical-align: middle;\n    }\n\n    .dataframe tbody tr th {\n        vertical-align: top;\n    }\n\n    .dataframe thead th {\n        text-align: right;\n    }\n</style>\n<table border=\"1\" class=\"dataframe\">\n  <thead>\n    <tr style=\"text-align: right;\">\n      <th></th>\n      <th>avg</th>\n      <th>std</th>\n      <th>min</th>\n      <th>max</th>\n      <th>med</th>\n    </tr>\n  </thead>\n  <tbody>\n    <tr>\n      <th>sphere</th>\n      <td>1.668487</td>\n      <td>25.453226</td>\n      <td>-42.059266</td>\n      <td>44.023816</td>\n      <td>9.854872</td>\n    </tr>\n    <tr>\n      <th>ackley</th>\n      <td>-1.498059</td>\n      <td>46.340006</td>\n      <td>-86.789390</td>\n      <td>75.195269</td>\n      <td>-13.841070</td>\n    </tr>\n    <tr>\n      <th>rosenbrock</th>\n      <td>-6.614378</td>\n      <td>32.191904</td>\n      <td>-61.239254</td>\n      <td>52.802604</td>\n      <td>0.475426</td>\n    </tr>\n    <tr>\n      <th>rastrigin</th>\n      <td>-0.785315</td>\n      <td>26.802924</td>\n      <td>-47.334065</td>\n      <td>38.852907</td>\n      <td>8.422518</td>\n    </tr>\n    <tr>\n      <th>griewank</th>\n      <td>-6.206126</td>\n      <td>27.871874</td>\n      <td>-51.821161</td>\n      <td>31.534402</td>\n      <td>-10.269287</td>\n    </tr>\n    <tr>\n      <th>schwefel_2_21</th>\n      <td>-8.550278</td>\n      <td>20.813815</td>\n      <td>-48.864954</td>\n      <td>19.937451</td>\n      <td>-7.424768</td>\n    </tr>\n    <tr>\n      <th>schwefel_2_22</th>\n      <td>-9.481708</td>\n      <td>45.620855</td>\n      <td>-90.473735</td>\n      <td>82.494146</td>\n      <td>-1.704723</td>\n    </tr>\n    <tr>\n      <th>schwefel_1_2</th>\n      <td>0.221065</td>\n      <td>32.604286</td>\n      <td>-45.421517</td>\n      <td>60.952512</td>\n      <td>-2.178406</td>\n    </tr>\n    <tr>\n      <th>extended_f_10</th>\n      <td>14.608415</td>\n      <td>19.080113</td>\n      <td>-11.705082</td>\n      <td>51.313485</td>\n      <td>13.715991</td>\n    </tr>\n    <tr>\n      <th>bohachevsky</th>\n      <td>-9.121662</td>\n      <td>24.162465</td>\n      <td>-55.960043</td>\n      <td>28.069295</td>\n      <td>-11.772329</td>\n    </tr>\n    <tr>\n      <th>schaffer</th>\n      <td>12.042855</td>\n      <td>18.650137</td>\n      <td>-19.809583</td>\n      <td>38.839710</td>\n      <td>6.578480</td>\n    </tr>\n  </tbody>\n</table>\n</div>"
     },
     "execution_count": 69,
     "metadata": {},
     "output_type": "execute_result"
    }
   ],
   "source": [
    "df_m"
   ]
  },
  {
   "cell_type": "markdown",
   "metadata": {},
   "source": [
    "### Poner algo!\n",
    "Y por último, utilizaremos la librería [scikit-posthocs](https://scikit-posthocs.readthedocs.io/en/latest/) para...**OJOOOOO!!!** algo de Paired comparison method"
   ]
  },
  {
   "cell_type": "code",
   "execution_count": 70,
   "metadata": {
    "pycharm": {
     "name": "#%%\n"
    }
   },
   "outputs": [
    {
     "data": {
      "text/plain": "            MI        DE      SADE\nMI    1.000000  0.577148  0.134766\nDE    0.577148  1.000000  0.041016\nSADE  0.134766  0.041016  1.000000",
      "text/html": "<div>\n<style scoped>\n    .dataframe tbody tr th:only-of-type {\n        vertical-align: middle;\n    }\n\n    .dataframe tbody tr th {\n        vertical-align: top;\n    }\n\n    .dataframe thead th {\n        text-align: right;\n    }\n</style>\n<table border=\"1\" class=\"dataframe\">\n  <thead>\n    <tr style=\"text-align: right;\">\n      <th></th>\n      <th>MI</th>\n      <th>DE</th>\n      <th>SADE</th>\n    </tr>\n  </thead>\n  <tbody>\n    <tr>\n      <th>MI</th>\n      <td>1.000000</td>\n      <td>0.577148</td>\n      <td>0.134766</td>\n    </tr>\n    <tr>\n      <th>DE</th>\n      <td>0.577148</td>\n      <td>1.000000</td>\n      <td>0.041016</td>\n    </tr>\n    <tr>\n      <th>SADE</th>\n      <td>0.134766</td>\n      <td>0.041016</td>\n      <td>1.000000</td>\n    </tr>\n  </tbody>\n</table>\n</div>"
     },
     "execution_count": 70,
     "metadata": {},
     "output_type": "execute_result"
    }
   ],
   "source": [
    "import scikit_posthocs as sp\n",
    "\n",
    "data = pd.DataFrame({\"algs\": [\"MI\" ]*len(results_avg[\"MI\"]) +\n",
    "                             [\"DE\"]*len(results_avg[\"DE\"]) +\n",
    "                            [\"SADE\"]*len(results_avg[\"SADE\"]),\n",
    "                     \"vals\": results_avg[\"MI\"] +\n",
    "                             results_avg[\"DE\"] +\n",
    "                            results_avg[\"SADE\"]})\n",
    "\n",
    "sp.posthoc_wilcoxon(data, val_col='vals', group_col='algs', p_adjust = 'holm')\n",
    "\n",
    "\n"
   ]
  },
  {
   "cell_type": "markdown",
   "metadata": {},
   "source": [
    "## Conclusiones\n",
    "Este trabajo se ha enfocado en la comparación de los resultados del algoritmo de **Evolución Diferencial (DE)** implementado por nosotros con unas estrategias y  métodos específicos, con el mismo algoritmo (DE) proveniente de la librería SciPy. En los resultados, observamos... (poner algo)\n",
    "\n",
    "En cuanto al algoritmo DE, vemos su utilidad y nos damos cuenta de que los resultados son bastante buenos, aunque no los utilicemos de una forma óptima. Además, como ya veníamos de realizar el algoritmo genético (GA) del anterior trabajo, vemos que hay bastantes algoritmos dentro de la computación evolutiva y nos percatamos de la gran utilidad de ellos.\n",
    "\n",
    "(Pasando a un enfoque más personal sobre este trabajo) (cambiar) sobre este trabajo, encontramos interesante la posibilidad de comparar estos algoritmos, de este modo hemos podido adentrarnos e indagar más en profundidad sobre ellos, conociendo así las soluciones óptimas y las que no son tan óptimas. "
   ]
  },
  {
   "cell_type": "markdown",
   "metadata": {},
   "source": [
    "## Bibliografía\n",
    "https://es.wikipedia.org/wiki/Evoluci%C3%B3n_diferencial\n",
    "\n",
    "https://docs.scipy.org/doc/scipy/reference/\n",
    "\n",
    "https://docs.scipy.org/doc/scipy/reference/optimize.html\n",
    "\n",
    "https://en.wikipedia.org/wiki/Differential_evolution\n",
    "\n",
    "https://www.sciencedirect.com/science/article/pii/S2215098618323401#e0025\n",
    "\n",
    "https://www.sciencedirect.com/science/article/abs/pii/S1568494609000325\n",
    "\n",
    "https://www.hindawi.com/journals/jcse/2013/462706/"
   ]
  }
 ],
 "metadata": {
  "kernelspec": {
   "display_name": "Python 3",
   "language": "python",
   "name": "python3"
  },
  "language_info": {
   "codemirror_mode": {
    "name": "ipython",
    "version": 3
   },
   "file_extension": ".py",
   "mimetype": "text/x-python",
   "name": "python",
   "nbconvert_exporter": "python",
   "pygments_lexer": "ipython3",
   "version": "3.6.12"
  }
 },
 "nbformat": 4,
 "nbformat_minor": 4
}