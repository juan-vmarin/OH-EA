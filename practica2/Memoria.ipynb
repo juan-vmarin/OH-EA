{
 "cells": [
  {
   "cell_type": "markdown",
   "metadata": {},
   "source": [
    "# Memoria\n",
    "## Grupo 10\n",
    "### Integrantes\n",
    "- Xiao Peng Ye\n",
    "- Zhengyu Ye\n",
    "- Juan Diego Valencia Marin"
   ]
  },
  {
   "cell_type": "markdown",
   "metadata": {},
   "source": [
    "## Índice\n",
    "1. Introducción\n",
    "2. Algoritmo implementado\n",
    "3. Funcionamiento específico\n",
    "4. Comparación con otro algoritmo\n",
    "5. Conclusiones\n",
    "6. Bibliografía"
   ]
  },
  {
   "cell_type": "markdown",
   "metadata": {},
   "source": [
    "## Introducción\n",
    "Esta práctica se basa en la implementación de un algoritmo evolutivo y de su comparación con otro de una biblioteca estudiada en esta asignatura, en concreto se realizará el algoritmo de [**Evolución Diferencial (DE)**](https://es.wikipedia.org/wiki/Evoluci%C3%B3n_diferencial) y la biblioteca [**SciPy**](https://docs.scipy.org/doc/scipy/reference/) donde encontraremos este mismo algoritmo de evolución diferencial.\n",
    "\n",
    "El algoritmo Evolución Diferencial es un método de optimización que está dentro de la computación evolutiva (rama de la inteligencia artificial inspirada en los mecanismos de la evolución biológica).\n",
    "\n",
    "La biblioteca SciPy, que viene de las siglas Scientific Python, es una biblioteca de cálculo científico que proporciona funciones de utilidad para optimización, estadísticas y procesamiento de señales.\n"
   ]
  },
  {
   "cell_type": "markdown",
   "metadata": {},
   "source": [
    "## Algoritmo implementado\n",
    "El algoritmo de **Evolución Diferencial (DE)** ha sido el realizado en esta práctica, este algoritmo tiene una configuración específica, la *mutación se utiliza la estrategia (de/rand/1)*, *selección de forma uniforme*, *cruzamiento binomial* y un *reemplazo elitista y posición a posición*.\n",
    "\n",
    "La idea del DE es generar una población de nuevas soluciones a partir de perturbar soluciones pertenecientes a la población de ese momento.\n",
    "\n",
    "El funcionamiento de este algoritmo es el siguiente:\n",
    "\n",
    "1. Crear una población inicial.\n",
    "2. Determinar un individuo de la población en función de la estrategia de selección.\n",
    "3. Generar nuevos individuos según el operador de mutación.\n",
    "4. Aplicar el cruzamiento/recombinación.\n",
    "5. Reemplazar el individuo seleccionado.\n",
    "6. Volver al paso 2 hasta obtener la mejor solución."
   ]
  },
  {
   "cell_type": "markdown",
   "metadata": {},
   "source": [
    "## Funcionamiento específico\n",
    "- **Uniform Selection.**\n",
    "\n",
    "    Se escogen tres vectores diferentes de forma aleatoria dentro de la población obtenida, con los que trabajaremos junto al **Target vector** del que se hablará más adelante. A estos tres vectores se les llama **Donor vectors**.\n",
    "    \n",
    "\t\n",
    "- **Mutation (de/rand/1).**\n",
    "\t\n",
    "    Se utiliza la estrategia de/rand/1, donde se escogen tres vectores diferentes de forma aleatoria. A continuación se realiza la siguiente operación:\n",
    "    \n",
    "    V<sub>i,g</sub> = x<sub>r<sub>0</sub>,g</sub> + F(x<sub>r<sub>1</sub>,g</sub> − x<sub>r<sub>2</sub>,g</sub>)\n",
    " \n",
    " Donde:\n",
    " - F es una constante entre 0 y 2, 1 en nuestro caso.\n",
    " - V<sub>i,g</sub> es el resultado de la mutación.\n",
    "\n",
    "\n",
    "- **Binomial Crossover.**\n",
    "\n",
    "  En el cruzamiento binomial, en donde aparece el **trial vector (u<sub>i,g</sub>)**, creado por los elementos del target vector (x<sub>i,g</sub>) y del donor vector (v<sub>i,g</sub>), además de una probabilidad **CR**, 0.1 en nuestro caso.\n",
    "  \n",
    "  u<sub>i,g</sub> =\n",
    "  \n",
    "  v<sub>i,g</sub> si rand <= CR\n",
    "         o\n",
    "  x<sub>i,g</sub> si rand > CR\n",
    "  \n",
    "  Donde:\n",
    "  - *rand* es un número aleatorio comprendido entre 0 y 1.\n",
    "  - *CR* es la probabilidad antes descrita.\n",
    "\n",
    "\n",
    "- **Elitist Replacement.**\n",
    "\n",
    "\tEste reemplazo es el más habitual, en el que se compara el *target vector* con el *trial vector* y aquel con la función de menor valor es el admitido en la siguiente generación.\n",
    "    "
   ]
  },
  {
   "cell_type": "markdown",
   "metadata": {},
   "source": [
    "## Comparación"
   ]
  },
  {
   "cell_type": "markdown",
   "metadata": {},
   "source": [
    "En este apartado se procederá a realizar la comparación del algoritmo **DE** implementado por nosotros, con otras implementaciones provenientes de una biblioteca. Se incluirán los resultados de ambas implementaciones representadas mediante tablas y algunos comentarios explicativos."
   ]
  },
  {
   "cell_type": "markdown",
   "metadata": {},
   "source": [
    "En los siguientes fragmentos, se importan las librerías y las funciones a utilizar, junto con la creación de ambos algoritmos.\n",
    "En particular, se utilizan la optimización de **SciPy** y **Pyade (SADE en particular)** que proporcionan funciones para maximizar o minimizar funciones objetivas. Y algunas de las [funciones de optimización](https://en.wikipedia.org/wiki/Test_functions_for_optimization) como la *sphere, ackley, rosenbrock,...* entre otras, dentro de la librería [Benchmarks](https://deap.readthedocs.io/en/master/api/benchmarks.html#deap.benchmarks.sphere). "
   ]
  },
  {
   "cell_type": "code",
   "execution_count": 1,
   "metadata": {},
   "outputs": [],
   "source": [
    "from scipy.optimize import differential_evolution\n",
    "from group10.EA import EA\n",
    "from benchmarks.functions import sphere, ackley, rosenbrock, rastrigin, griewank, schwefel_2_21,schwefel_2_22, schwefel_1_2, extended_f_10, bohachevsky, schaffer\n",
    "import pandas as pd\n",
    "import numpy as np\n",
    "import pyade.sade as sade"
   ]
  },
  {
   "cell_type": "code",
   "execution_count": 2,
   "metadata": {
    "scrolled": true
   },
   "outputs": [],
   "source": [
    "def DE_scipy(m_function,bounds,p_size,iteration):\n",
    "    result = differential_evolution(m_function, bounds, popsize=p_size, polish=False, maxiter=iteration,strategy=\"rand1bin\")\n",
    "    return result"
   ]
  },
  {
   "cell_type": "code",
   "execution_count": 3,
   "metadata": {},
   "outputs": [],
   "source": [
    "def DE_propio(m_function,bounds,p_size,iteration):\n",
    "    miEA = EA(m_function, bounds, p_size)\n",
    "    miEA.run(iteration)\n",
    "    bestGenome = miEA.best()\n",
    "    return bestGenome"
   ]
  },
  {
   "cell_type": "code",
   "execution_count": 4,
   "metadata": {
    "pycharm": {
     "name": "#%%\n"
    }
   },
   "outputs": [],
   "source": [
    "def DE_SADE(m_function,bounds,probsize,p_size,iteration):\n",
    "    params = sade.get_default_params(dim=probsize)\n",
    "    params['bounds'         ] = np.array([[bounds[0], bounds[1]]] * probsize)\n",
    "    params['max_evals'      ] = p_size*iteration\n",
    "    params['population_size'] = p_size\n",
    "    params['func'           ] = m_function\n",
    "    results = []\n",
    "    # for i in range(iteration):\n",
    "    _, fitness = sade.apply(**params)\n",
    "    results.append(fitness)\n",
    "\n",
    "    return results"
   ]
  },
  {
   "cell_type": "markdown",
   "metadata": {},
   "source": [
    "En esta parte, se procede a utilizar todas las funciones de optimización dentro de la librería benchmarks, junto con el algoritmo DE implementado por nuestra parte y las librerías SciPy y SADE."
   ]
  },
  {
   "cell_type": "code",
   "execution_count": 5,
   "metadata": {},
   "outputs": [],
   "source": [
    "benchmark=[sphere, ackley, rosenbrock, rastrigin, griewank, schwefel_2_21,\n",
    "             schwefel_2_22, schwefel_1_2, extended_f_10, bohachevsky, schaffer]"
   ]
  },
  {
   "cell_type": "code",
   "execution_count": 6,
   "metadata": {
    "pycharm": {
     "name": "#%%\n"
    }
   },
   "outputs": [],
   "source": [
    "resultMI={}\n",
    "\n",
    "for func in benchmark:\n",
    "    resultMI[func.__name__] = DE_propio(func, [(-100, 100)] * 10,50,100).solution"
   ]
  },
  {
   "cell_type": "code",
   "execution_count": 7,
   "metadata": {},
   "outputs": [],
   "source": [
    "resultDE={}\n",
    "for func in benchmark:\n",
    "    resultDE[func.__name__] = DE_scipy(func, [(-100, 100)] * 10,50,1).x"
   ]
  },
  {
   "cell_type": "code",
   "execution_count": 8,
   "metadata": {
    "pycharm": {
     "name": "#%%\n"
    }
   },
   "outputs": [],
   "source": [
    "resultSADE={}\n",
    "for func in benchmark:\n",
    "    resultSADE[func.__name__] = DE_SADE(func, (-100, 100), 10,50,1)"
   ]
  },
  {
   "cell_type": "markdown",
   "metadata": {},
   "source": [
    "Ahora se procede a obtener los resultados y almacenarlos en un par de tablas para falicitar su visualización y comprensión. Se obtendrán algunos valores estadísticos como la media, desviación, mínimo, máximo y mediana."
   ]
  },
  {
   "cell_type": "code",
   "execution_count": 9,
   "metadata": {
    "pycharm": {
     "name": "#%%\n"
    }
   },
   "outputs": [],
   "source": [
    "ind=['sphere', 'ackley', 'rosenbrock', 'rastrigin', 'griewank', 'schwefel_2_21',\n",
    "     'schwefel_2_22', 'schwefel_1_2', 'extended_f_10', 'bohachevsky', 'schaffer']\n",
    "col=['avg','std','min','max','med']"
   ]
  },
  {
   "cell_type": "code",
   "execution_count": 10,
   "metadata": {
    "pycharm": {
     "name": "#%%\n"
    }
   },
   "outputs": [],
   "source": [
    "df_b=pd.DataFrame(index=ind,columns=col)"
   ]
  },
  {
   "cell_type": "code",
   "execution_count": 11,
   "metadata": {
    "pycharm": {
     "name": "#%%\n"
    }
   },
   "outputs": [],
   "source": [
    "df_m=pd.DataFrame(index=ind,columns=col)"
   ]
  },
  {
   "cell_type": "code",
   "execution_count": 12,
   "metadata": {
    "pycharm": {
     "name": "#%%\n"
    }
   },
   "outputs": [],
   "source": [
    "df_d=pd.DataFrame(index=ind,columns=col)"
   ]
  },
  {
   "cell_type": "markdown",
   "metadata": {},
   "source": [
    "Una vez creadas las tablas, se procede a guardar los datos para poder visualizarlos."
   ]
  },
  {
   "cell_type": "code",
   "execution_count": 13,
   "metadata": {},
   "outputs": [],
   "source": [
    "algNames = [\"MI\", \"DE\",\"SADE\"]\n",
    "\n",
    "results_avg = {}\n",
    "results_std = {}\n",
    "results_min = {}\n",
    "results_max = {}\n",
    "results_median = {}\n",
    "\n",
    "\n",
    "for n in algNames:\n",
    "    results_avg[n] = []\n",
    "    results_std[n] = []\n",
    "    results_min[n] = []\n",
    "    results_max[n] = []\n",
    "    results_median[n] = []\n",
    "\n",
    "\n",
    "for func in benchmark:\n",
    "    f = func.__name__\n",
    "    results_avg[\"MI\"].append(np.mean(resultMI[f]))\n",
    "    results_avg[\"DE\"].append(np.mean(resultDE[f]))\n",
    "    results_avg[\"SADE\"].append(np.mean(resultSADE[f]))\n",
    "    results_std[\"MI\"].append(np.std(resultMI[f]))\n",
    "    results_std[\"DE\"].append(np.std(resultDE[f]))\n",
    "    results_std[\"SADE\"].append(np.std(resultSADE[f]))\n",
    "    results_min[\"MI\"].append(np.min(resultMI[f]))\n",
    "    results_min[\"DE\"].append(np.min(resultDE[f]))\n",
    "    results_min[\"SADE\"].append(np.min(resultSADE[f]))\n",
    "    results_max[\"MI\"].append(np.max(resultMI[f]))\n",
    "    results_max[\"DE\"].append(np.max(resultDE[f]))\n",
    "    results_max[\"SADE\"].append(np.max(resultSADE[f]))\n",
    "    results_median[\"MI\"].append(np.median(resultMI[f]))\n",
    "    results_median[\"DE\"].append(np.median(resultDE[f]))\n",
    "    results_median[\"SADE\"].append(np.median(resultSADE[f]))"
   ]
  },
  {
   "cell_type": "code",
   "execution_count": 14,
   "metadata": {
    "pycharm": {
     "name": "#%%\n"
    }
   },
   "outputs": [],
   "source": [
    "df_b.loc[:,'avg']=results_avg[\"MI\"]\n",
    "df_m.loc[:,'avg']=results_avg[\"DE\"]\n",
    "df_d.loc[:,'avg']=results_avg[\"SADE\"]\n",
    "df_b.loc[:,'std']=results_std[\"MI\"]\n",
    "df_m.loc[:,'std']=results_std[\"DE\"]\n",
    "df_d.loc[:,'std']=results_std[\"SADE\"]\n",
    "df_b.loc[:,'max']=results_max[\"MI\"]\n",
    "df_m.loc[:,'max']=results_max[\"DE\"]\n",
    "df_d.loc[:,'max']=results_max[\"SADE\"]\n",
    "df_b.loc[:,'min']=results_min[\"MI\"]\n",
    "df_m.loc[:,'min']=results_min[\"DE\"]\n",
    "df_d.loc[:,'min']=results_min[\"SADE\"]\n",
    "df_b.loc[:,'med']=results_median[\"MI\"]\n",
    "df_m.loc[:,'med']=results_median[\"DE\"]\n",
    "df_d.loc[:,'med']=results_median[\"SADE\"]"
   ]
  },
  {
   "cell_type": "markdown",
   "metadata": {},
   "source": [
    "### Visualización de las tablas"
   ]
  },
  {
   "cell_type": "markdown",
   "metadata": {},
   "source": [
    "En este punto, se visualizan los datos de todas las implementaciones mediante tablas:"
   ]
  },
  {
   "cell_type": "markdown",
   "metadata": {},
   "source": [
    "- **Tabla de DE de la biblioteca SciPy:**"
   ]
  },
  {
   "cell_type": "code",
   "execution_count": 15,
   "metadata": {
    "pycharm": {
     "name": "#%%\n"
    },
    "scrolled": false
   },
   "outputs": [
    {
     "data": {
      "text/html": [
       "<div>\n",
       "<style scoped>\n",
       "    .dataframe tbody tr th:only-of-type {\n",
       "        vertical-align: middle;\n",
       "    }\n",
       "\n",
       "    .dataframe tbody tr th {\n",
       "        vertical-align: top;\n",
       "    }\n",
       "\n",
       "    .dataframe thead th {\n",
       "        text-align: right;\n",
       "    }\n",
       "</style>\n",
       "<table border=\"1\" class=\"dataframe\">\n",
       "  <thead>\n",
       "    <tr style=\"text-align: right;\">\n",
       "      <th></th>\n",
       "      <th>avg</th>\n",
       "      <th>std</th>\n",
       "      <th>min</th>\n",
       "      <th>max</th>\n",
       "      <th>med</th>\n",
       "    </tr>\n",
       "  </thead>\n",
       "  <tbody>\n",
       "    <tr>\n",
       "      <th>sphere</th>\n",
       "      <td>0.654609</td>\n",
       "      <td>2.530447</td>\n",
       "      <td>-3.992671</td>\n",
       "      <td>4.430975</td>\n",
       "      <td>1.399140</td>\n",
       "    </tr>\n",
       "    <tr>\n",
       "      <th>ackley</th>\n",
       "      <td>18.400000</td>\n",
       "      <td>54.116910</td>\n",
       "      <td>-60.000000</td>\n",
       "      <td>100.000000</td>\n",
       "      <td>12.000000</td>\n",
       "    </tr>\n",
       "    <tr>\n",
       "      <th>rosenbrock</th>\n",
       "      <td>2.290646</td>\n",
       "      <td>7.884021</td>\n",
       "      <td>-5.538144</td>\n",
       "      <td>24.471041</td>\n",
       "      <td>1.395956</td>\n",
       "    </tr>\n",
       "    <tr>\n",
       "      <th>rastrigin</th>\n",
       "      <td>-0.792375</td>\n",
       "      <td>2.903469</td>\n",
       "      <td>-4.928530</td>\n",
       "      <td>4.784870</td>\n",
       "      <td>-0.640684</td>\n",
       "    </tr>\n",
       "    <tr>\n",
       "      <th>griewank</th>\n",
       "      <td>-0.184679</td>\n",
       "      <td>2.481950</td>\n",
       "      <td>-4.771186</td>\n",
       "      <td>3.184851</td>\n",
       "      <td>-0.081057</td>\n",
       "    </tr>\n",
       "    <tr>\n",
       "      <th>schwefel_2_21</th>\n",
       "      <td>-4.434521</td>\n",
       "      <td>10.337093</td>\n",
       "      <td>-16.106182</td>\n",
       "      <td>15.234144</td>\n",
       "      <td>-8.562615</td>\n",
       "    </tr>\n",
       "    <tr>\n",
       "      <th>schwefel_2_22</th>\n",
       "      <td>0.227617</td>\n",
       "      <td>4.442384</td>\n",
       "      <td>-11.019528</td>\n",
       "      <td>5.935192</td>\n",
       "      <td>-0.103948</td>\n",
       "    </tr>\n",
       "    <tr>\n",
       "      <th>schwefel_1_2</th>\n",
       "      <td>-4.242250</td>\n",
       "      <td>19.506662</td>\n",
       "      <td>-42.420516</td>\n",
       "      <td>21.331215</td>\n",
       "      <td>-10.629697</td>\n",
       "    </tr>\n",
       "    <tr>\n",
       "      <th>extended_f_10</th>\n",
       "      <td>-0.930450</td>\n",
       "      <td>7.384353</td>\n",
       "      <td>-16.904915</td>\n",
       "      <td>11.216873</td>\n",
       "      <td>0.691503</td>\n",
       "    </tr>\n",
       "    <tr>\n",
       "      <th>bohachevsky</th>\n",
       "      <td>0.412739</td>\n",
       "      <td>2.940650</td>\n",
       "      <td>-3.742725</td>\n",
       "      <td>6.738843</td>\n",
       "      <td>0.480011</td>\n",
       "    </tr>\n",
       "    <tr>\n",
       "      <th>schaffer</th>\n",
       "      <td>3.373233</td>\n",
       "      <td>6.935967</td>\n",
       "      <td>-8.315244</td>\n",
       "      <td>16.374597</td>\n",
       "      <td>2.035927</td>\n",
       "    </tr>\n",
       "  </tbody>\n",
       "</table>\n",
       "</div>"
      ],
      "text/plain": [
       "                     avg        std        min         max        med\n",
       "sphere          0.654609   2.530447  -3.992671    4.430975   1.399140\n",
       "ackley         18.400000  54.116910 -60.000000  100.000000  12.000000\n",
       "rosenbrock      2.290646   7.884021  -5.538144   24.471041   1.395956\n",
       "rastrigin      -0.792375   2.903469  -4.928530    4.784870  -0.640684\n",
       "griewank       -0.184679   2.481950  -4.771186    3.184851  -0.081057\n",
       "schwefel_2_21  -4.434521  10.337093 -16.106182   15.234144  -8.562615\n",
       "schwefel_2_22   0.227617   4.442384 -11.019528    5.935192  -0.103948\n",
       "schwefel_1_2   -4.242250  19.506662 -42.420516   21.331215 -10.629697\n",
       "extended_f_10  -0.930450   7.384353 -16.904915   11.216873   0.691503\n",
       "bohachevsky     0.412739   2.940650  -3.742725    6.738843   0.480011\n",
       "schaffer        3.373233   6.935967  -8.315244   16.374597   2.035927"
      ]
     },
     "execution_count": 15,
     "metadata": {},
     "output_type": "execute_result"
    }
   ],
   "source": [
    "df_b"
   ]
  },
  {
   "cell_type": "markdown",
   "metadata": {},
   "source": [
    "- **Tabla de DE de la biblioteca SADE:**"
   ]
  },
  {
   "cell_type": "code",
   "execution_count": 16,
   "metadata": {
    "pycharm": {
     "name": "#%%\n"
    }
   },
   "outputs": [
    {
     "data": {
      "text/html": [
       "<div>\n",
       "<style scoped>\n",
       "    .dataframe tbody tr th:only-of-type {\n",
       "        vertical-align: middle;\n",
       "    }\n",
       "\n",
       "    .dataframe tbody tr th {\n",
       "        vertical-align: top;\n",
       "    }\n",
       "\n",
       "    .dataframe thead th {\n",
       "        text-align: right;\n",
       "    }\n",
       "</style>\n",
       "<table border=\"1\" class=\"dataframe\">\n",
       "  <thead>\n",
       "    <tr style=\"text-align: right;\">\n",
       "      <th></th>\n",
       "      <th>avg</th>\n",
       "      <th>std</th>\n",
       "      <th>min</th>\n",
       "      <th>max</th>\n",
       "      <th>med</th>\n",
       "    </tr>\n",
       "  </thead>\n",
       "  <tbody>\n",
       "    <tr>\n",
       "      <th>sphere</th>\n",
       "      <td>0.654609</td>\n",
       "      <td>2.530447</td>\n",
       "      <td>-3.992671</td>\n",
       "      <td>4.430975</td>\n",
       "      <td>1.399140</td>\n",
       "    </tr>\n",
       "    <tr>\n",
       "      <th>ackley</th>\n",
       "      <td>18.400000</td>\n",
       "      <td>54.116910</td>\n",
       "      <td>-60.000000</td>\n",
       "      <td>100.000000</td>\n",
       "      <td>12.000000</td>\n",
       "    </tr>\n",
       "    <tr>\n",
       "      <th>rosenbrock</th>\n",
       "      <td>2.290646</td>\n",
       "      <td>7.884021</td>\n",
       "      <td>-5.538144</td>\n",
       "      <td>24.471041</td>\n",
       "      <td>1.395956</td>\n",
       "    </tr>\n",
       "    <tr>\n",
       "      <th>rastrigin</th>\n",
       "      <td>-0.792375</td>\n",
       "      <td>2.903469</td>\n",
       "      <td>-4.928530</td>\n",
       "      <td>4.784870</td>\n",
       "      <td>-0.640684</td>\n",
       "    </tr>\n",
       "    <tr>\n",
       "      <th>griewank</th>\n",
       "      <td>-0.184679</td>\n",
       "      <td>2.481950</td>\n",
       "      <td>-4.771186</td>\n",
       "      <td>3.184851</td>\n",
       "      <td>-0.081057</td>\n",
       "    </tr>\n",
       "    <tr>\n",
       "      <th>schwefel_2_21</th>\n",
       "      <td>-4.434521</td>\n",
       "      <td>10.337093</td>\n",
       "      <td>-16.106182</td>\n",
       "      <td>15.234144</td>\n",
       "      <td>-8.562615</td>\n",
       "    </tr>\n",
       "    <tr>\n",
       "      <th>schwefel_2_22</th>\n",
       "      <td>0.227617</td>\n",
       "      <td>4.442384</td>\n",
       "      <td>-11.019528</td>\n",
       "      <td>5.935192</td>\n",
       "      <td>-0.103948</td>\n",
       "    </tr>\n",
       "    <tr>\n",
       "      <th>schwefel_1_2</th>\n",
       "      <td>-4.242250</td>\n",
       "      <td>19.506662</td>\n",
       "      <td>-42.420516</td>\n",
       "      <td>21.331215</td>\n",
       "      <td>-10.629697</td>\n",
       "    </tr>\n",
       "    <tr>\n",
       "      <th>extended_f_10</th>\n",
       "      <td>-0.930450</td>\n",
       "      <td>7.384353</td>\n",
       "      <td>-16.904915</td>\n",
       "      <td>11.216873</td>\n",
       "      <td>0.691503</td>\n",
       "    </tr>\n",
       "    <tr>\n",
       "      <th>bohachevsky</th>\n",
       "      <td>0.412739</td>\n",
       "      <td>2.940650</td>\n",
       "      <td>-3.742725</td>\n",
       "      <td>6.738843</td>\n",
       "      <td>0.480011</td>\n",
       "    </tr>\n",
       "    <tr>\n",
       "      <th>schaffer</th>\n",
       "      <td>3.373233</td>\n",
       "      <td>6.935967</td>\n",
       "      <td>-8.315244</td>\n",
       "      <td>16.374597</td>\n",
       "      <td>2.035927</td>\n",
       "    </tr>\n",
       "  </tbody>\n",
       "</table>\n",
       "</div>"
      ],
      "text/plain": [
       "                     avg        std        min         max        med\n",
       "sphere          0.654609   2.530447  -3.992671    4.430975   1.399140\n",
       "ackley         18.400000  54.116910 -60.000000  100.000000  12.000000\n",
       "rosenbrock      2.290646   7.884021  -5.538144   24.471041   1.395956\n",
       "rastrigin      -0.792375   2.903469  -4.928530    4.784870  -0.640684\n",
       "griewank       -0.184679   2.481950  -4.771186    3.184851  -0.081057\n",
       "schwefel_2_21  -4.434521  10.337093 -16.106182   15.234144  -8.562615\n",
       "schwefel_2_22   0.227617   4.442384 -11.019528    5.935192  -0.103948\n",
       "schwefel_1_2   -4.242250  19.506662 -42.420516   21.331215 -10.629697\n",
       "extended_f_10  -0.930450   7.384353 -16.904915   11.216873   0.691503\n",
       "bohachevsky     0.412739   2.940650  -3.742725    6.738843   0.480011\n",
       "schaffer        3.373233   6.935967  -8.315244   16.374597   2.035927"
      ]
     },
     "execution_count": 16,
     "metadata": {},
     "output_type": "execute_result"
    }
   ],
   "source": [
    "df_b"
   ]
  },
  {
   "cell_type": "markdown",
   "metadata": {
    "pycharm": {
     "name": "#%% md\n"
    }
   },
   "source": [
    "- **Tabla de DE con nuestra implementación:**"
   ]
  },
  {
   "cell_type": "code",
   "execution_count": 17,
   "metadata": {
    "pycharm": {
     "name": "#%%\n"
    },
    "scrolled": true
   },
   "outputs": [
    {
     "data": {
      "text/html": [
       "<div>\n",
       "<style scoped>\n",
       "    .dataframe tbody tr th:only-of-type {\n",
       "        vertical-align: middle;\n",
       "    }\n",
       "\n",
       "    .dataframe tbody tr th {\n",
       "        vertical-align: top;\n",
       "    }\n",
       "\n",
       "    .dataframe thead th {\n",
       "        text-align: right;\n",
       "    }\n",
       "</style>\n",
       "<table border=\"1\" class=\"dataframe\">\n",
       "  <thead>\n",
       "    <tr style=\"text-align: right;\">\n",
       "      <th></th>\n",
       "      <th>avg</th>\n",
       "      <th>std</th>\n",
       "      <th>min</th>\n",
       "      <th>max</th>\n",
       "      <th>med</th>\n",
       "    </tr>\n",
       "  </thead>\n",
       "  <tbody>\n",
       "    <tr>\n",
       "      <th>sphere</th>\n",
       "      <td>7.649395</td>\n",
       "      <td>21.926159</td>\n",
       "      <td>-25.385472</td>\n",
       "      <td>58.043125</td>\n",
       "      <td>3.620130</td>\n",
       "    </tr>\n",
       "    <tr>\n",
       "      <th>ackley</th>\n",
       "      <td>-15.433013</td>\n",
       "      <td>51.490269</td>\n",
       "      <td>-79.816462</td>\n",
       "      <td>66.988401</td>\n",
       "      <td>-39.119388</td>\n",
       "    </tr>\n",
       "    <tr>\n",
       "      <th>rosenbrock</th>\n",
       "      <td>5.199235</td>\n",
       "      <td>25.183851</td>\n",
       "      <td>-49.271378</td>\n",
       "      <td>44.666327</td>\n",
       "      <td>8.727724</td>\n",
       "    </tr>\n",
       "    <tr>\n",
       "      <th>rastrigin</th>\n",
       "      <td>20.454436</td>\n",
       "      <td>19.446675</td>\n",
       "      <td>-7.194109</td>\n",
       "      <td>54.539926</td>\n",
       "      <td>24.287943</td>\n",
       "    </tr>\n",
       "    <tr>\n",
       "      <th>griewank</th>\n",
       "      <td>0.345059</td>\n",
       "      <td>21.810225</td>\n",
       "      <td>-26.401906</td>\n",
       "      <td>42.124134</td>\n",
       "      <td>-0.107374</td>\n",
       "    </tr>\n",
       "    <tr>\n",
       "      <th>schwefel_2_21</th>\n",
       "      <td>12.151889</td>\n",
       "      <td>24.228086</td>\n",
       "      <td>-34.822227</td>\n",
       "      <td>44.843282</td>\n",
       "      <td>21.466099</td>\n",
       "    </tr>\n",
       "    <tr>\n",
       "      <th>schwefel_2_22</th>\n",
       "      <td>9.286793</td>\n",
       "      <td>46.908649</td>\n",
       "      <td>-93.698648</td>\n",
       "      <td>92.284188</td>\n",
       "      <td>6.003610</td>\n",
       "    </tr>\n",
       "    <tr>\n",
       "      <th>schwefel_1_2</th>\n",
       "      <td>0.677340</td>\n",
       "      <td>33.533422</td>\n",
       "      <td>-56.214217</td>\n",
       "      <td>72.410290</td>\n",
       "      <td>-9.230574</td>\n",
       "    </tr>\n",
       "    <tr>\n",
       "      <th>extended_f_10</th>\n",
       "      <td>-18.118704</td>\n",
       "      <td>34.080112</td>\n",
       "      <td>-65.767190</td>\n",
       "      <td>63.130915</td>\n",
       "      <td>-22.885302</td>\n",
       "    </tr>\n",
       "    <tr>\n",
       "      <th>bohachevsky</th>\n",
       "      <td>-3.380234</td>\n",
       "      <td>29.973498</td>\n",
       "      <td>-80.693352</td>\n",
       "      <td>34.978313</td>\n",
       "      <td>-0.005558</td>\n",
       "    </tr>\n",
       "    <tr>\n",
       "      <th>schaffer</th>\n",
       "      <td>18.172419</td>\n",
       "      <td>37.956871</td>\n",
       "      <td>-46.210784</td>\n",
       "      <td>84.652838</td>\n",
       "      <td>7.547058</td>\n",
       "    </tr>\n",
       "  </tbody>\n",
       "</table>\n",
       "</div>"
      ],
      "text/plain": [
       "                     avg        std        min        max        med\n",
       "sphere          7.649395  21.926159 -25.385472  58.043125   3.620130\n",
       "ackley        -15.433013  51.490269 -79.816462  66.988401 -39.119388\n",
       "rosenbrock      5.199235  25.183851 -49.271378  44.666327   8.727724\n",
       "rastrigin      20.454436  19.446675  -7.194109  54.539926  24.287943\n",
       "griewank        0.345059  21.810225 -26.401906  42.124134  -0.107374\n",
       "schwefel_2_21  12.151889  24.228086 -34.822227  44.843282  21.466099\n",
       "schwefel_2_22   9.286793  46.908649 -93.698648  92.284188   6.003610\n",
       "schwefel_1_2    0.677340  33.533422 -56.214217  72.410290  -9.230574\n",
       "extended_f_10 -18.118704  34.080112 -65.767190  63.130915 -22.885302\n",
       "bohachevsky    -3.380234  29.973498 -80.693352  34.978313  -0.005558\n",
       "schaffer       18.172419  37.956871 -46.210784  84.652838   7.547058"
      ]
     },
     "execution_count": 17,
     "metadata": {},
     "output_type": "execute_result"
    }
   ],
   "source": [
    "df_m\n"
   ]
  },
  {
   "cell_type": "markdown",
   "metadata": {
    "pycharm": {
     "name": "#%% md\n"
    }
   },
   "source": [
    "Ya con todos los resultados de los algoritmos, se comprobarán los algoritmos mediante la prueba de **Kruskal-Wallis**. Esta prueba es una comprobación más en profundidad, pues se comprueba función a función y se pueden observar ciertas diferencias dependiendo de la implementación."
   ]
  },
  {
   "cell_type": "code",
   "execution_count": 18,
   "metadata": {
    "pycharm": {
     "name": "#%%\n"
    }
   },
   "outputs": [
    {
     "name": "stdout",
     "output_type": "stream",
     "text": [
      "Results for the sphere function: 0.610481985585928\n",
      "Results for the ackley function: 0.29574992126496136\n",
      "Results for the rosenbrock function: 0.19723159662080514\n",
      "Results for the rastrigin function: 0.06969432648219902\n",
      "Results for the griewank function: 0.9444591369948634\n",
      "Results for the schwefel_2_21 function: 0.26485535596213583\n",
      "Results for the schwefel_2_22 function: 0.29692202572789594\n",
      "Results for the schwefel_1_2 function: 0.8337529180751763\n",
      "Results for the extended_f_10 function: 0.06216755258803258\n",
      "Results for the bohachevsky function: 0.5043849138615993\n",
      "Results for the schaffer function: 0.7322097138745831\n"
     ]
    }
   ],
   "source": [
    "from scipy.stats import kruskal\n",
    "\n",
    "for func in benchmark:\n",
    "    f = func.__name__\n",
    "    res = kruskal(resultMI[f], resultDE[f], resultSADE[f])\n",
    "    print(\"Results for the \"+f+\" function: \"+str(res.pvalue))\n"
   ]
  },
  {
   "cell_type": "markdown",
   "metadata": {
    "pycharm": {
     "name": "#%% md\n"
    }
   },
   "source": [
    "De forma semejante a la anterior, se realizará la prueba de **Friedman**, que es una prueba no paramétrica. Aunque esta no es tan específica, pues se realiza considerando las medias, y no las funciones como la de Kruskal-Wallis."
   ]
  },
  {
   "cell_type": "code",
   "execution_count": 19,
   "metadata": {
    "pycharm": {
     "name": "#%%\n"
    }
   },
   "outputs": [
    {
     "data": {
      "text/plain": [
       "FriedmanchisquareResult(statistic=7.818181818181813, pvalue=0.020058727982721684)"
      ]
     },
     "execution_count": 19,
     "metadata": {},
     "output_type": "execute_result"
    }
   ],
   "source": [
    "from scipy.stats import friedmanchisquare\n",
    "\n",
    "friedmanchisquare(results_avg[\"MI\"], results_avg[\"DE\"], results_avg[\"SADE\"])\n",
    "\n"
   ]
  },
  {
   "cell_type": "markdown",
   "metadata": {},
   "source": [
    "Por último, utilizaremos la librería [scikit-posthocs](https://scikit-posthocs.readthedocs.io/en/latest/) para realizar una comparación directa de las tres posibles implementaciones. Esta comparación se realizará mediante el método de comparación por pares, en donde se comparan los algoritmos dos a dos obteniendo unos resultados más específicos.\n",
    "\n",
    "En la tabla se puede observar que los resultados son mejores cuando el valor se acerca más a 0, siendo la comparación de un algoritmo consigo mismo 1. Por lo que podemos afirmar que nuestra implementación no es tan eficiente como las demás porque los valores son ligeramente mayores a los de las librerías. Y con este mismo razonamiento, el algoritmo SADE es un poco mejor que el de DE."
   ]
  },
  {
   "cell_type": "code",
   "execution_count": 20,
   "metadata": {
    "pycharm": {
     "name": "#%%\n"
    }
   },
   "outputs": [
    {
     "data": {
      "text/html": [
       "<div>\n",
       "<style scoped>\n",
       "    .dataframe tbody tr th:only-of-type {\n",
       "        vertical-align: middle;\n",
       "    }\n",
       "\n",
       "    .dataframe tbody tr th {\n",
       "        vertical-align: top;\n",
       "    }\n",
       "\n",
       "    .dataframe thead th {\n",
       "        text-align: right;\n",
       "    }\n",
       "</style>\n",
       "<table border=\"1\" class=\"dataframe\">\n",
       "  <thead>\n",
       "    <tr style=\"text-align: right;\">\n",
       "      <th></th>\n",
       "      <th>MI</th>\n",
       "      <th>DE</th>\n",
       "      <th>SADE</th>\n",
       "    </tr>\n",
       "  </thead>\n",
       "  <tbody>\n",
       "    <tr>\n",
       "      <th>MI</th>\n",
       "      <td>1.000000</td>\n",
       "      <td>0.413086</td>\n",
       "      <td>0.096680</td>\n",
       "    </tr>\n",
       "    <tr>\n",
       "      <th>DE</th>\n",
       "      <td>0.413086</td>\n",
       "      <td>1.000000</td>\n",
       "      <td>0.412109</td>\n",
       "    </tr>\n",
       "    <tr>\n",
       "      <th>SADE</th>\n",
       "      <td>0.096680</td>\n",
       "      <td>0.412109</td>\n",
       "      <td>1.000000</td>\n",
       "    </tr>\n",
       "  </tbody>\n",
       "</table>\n",
       "</div>"
      ],
      "text/plain": [
       "            MI        DE      SADE\n",
       "MI    1.000000  0.413086  0.096680\n",
       "DE    0.413086  1.000000  0.412109\n",
       "SADE  0.096680  0.412109  1.000000"
      ]
     },
     "execution_count": 20,
     "metadata": {},
     "output_type": "execute_result"
    }
   ],
   "source": [
    "import scikit_posthocs as sp\n",
    "\n",
    "data = pd.DataFrame({\"algs\": [\"MI\" ]*len(results_avg[\"MI\"]) +\n",
    "                             [\"DE\"]*len(results_avg[\"DE\"]) +\n",
    "                            [\"SADE\"]*len(results_avg[\"SADE\"]),\n",
    "                     \"vals\": results_avg[\"MI\"] +\n",
    "                             results_avg[\"DE\"] +\n",
    "                            results_avg[\"SADE\"]})\n",
    "\n",
    "sp.posthoc_wilcoxon(data, val_col='vals', group_col='algs', p_adjust = 'holm')\n",
    "\n",
    "\n"
   ]
  },
  {
   "cell_type": "markdown",
   "metadata": {},
   "source": [
    "## Conclusiones\n",
    "Este trabajo se ha enfocado en la comparación de los resultados del algoritmo de **Evolución Diferencial (DE)** implementado por nosotros con unas estrategias y  métodos específicos, con el mismo algoritmo (DE) proveniente de la librería SciPy. En los resultados, observamos... (poner algo)\n",
    "\n",
    "En cuanto al algoritmo DE, vemos su utilidad y nos damos cuenta de que los resultados son bastante buenos, aunque no los utilicemos de una forma óptima. Además, como ya veníamos de realizar el algoritmo genético (GA) del anterior trabajo, vemos que hay bastantes algoritmos dentro de la computación evolutiva y nos percatamos de la gran utilidad de ellos.\n",
    "\n",
    "(Pasando a un enfoque más personal sobre este trabajo) (cambiar) sobre este trabajo, encontramos interesante la posibilidad de comparar estos algoritmos, de este modo hemos podido adentrarnos e indagar más en profundidad sobre ellos, conociendo así las soluciones óptimas y las que no son óptimas. "
   ]
  },
  {
   "cell_type": "markdown",
   "metadata": {},
   "source": [
    "## Bibliografía\n",
    "https://es.wikipedia.org/wiki/Evoluci%C3%B3n_diferencial\n",
    "\n",
    "https://docs.scipy.org/doc/scipy/reference/\n",
    "\n",
    "https://docs.scipy.org/doc/scipy/reference/optimize.html\n",
    "\n",
    "https://en.wikipedia.org/wiki/Differential_evolution\n",
    "\n",
    "https://www.sciencedirect.com/science/article/pii/S2215098618323401#e0025\n",
    "\n",
    "https://www.sciencedirect.com/science/article/abs/pii/S1568494609000325\n",
    "\n",
    "https://www.hindawi.com/journals/jcse/2013/462706/"
   ]
  }
 ],
 "metadata": {
  "kernelspec": {
   "display_name": "Python 3",
   "language": "python",
   "name": "python3"
  },
  "language_info": {
   "codemirror_mode": {
    "name": "ipython",
    "version": 3
   },
   "file_extension": ".py",
   "mimetype": "text/x-python",
   "name": "python",
   "nbconvert_exporter": "python",
   "pygments_lexer": "ipython3",
   "version": "3.6.12"
  }
 },
 "nbformat": 4,
 "nbformat_minor": 4
}
