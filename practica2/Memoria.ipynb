{
 "cells": [
  {
   "cell_type": "markdown",
   "metadata": {},
   "source": [
    "# Memoria\n",
    "## Grupo 10\n",
    "### Integrantes\n",
    "- Xiao Peng Ye\n",
    "- Zhengyu Ye\n",
    "- Juan Diego Valencia Marin"
   ]
  },
  {
   "cell_type": "markdown",
   "metadata": {},
   "source": [
    "## Índice\n",
    "1. Introducción\n",
    "2. Algoritmo implementado\n",
    "3. Funcionamiento específico\n",
    "4. Comparación con otro algoritmo\n",
    "5. Conclusiones\n",
    "6. Bibliografía"
   ]
  },
  {
   "cell_type": "markdown",
   "metadata": {},
   "source": [
    "## Introducción\n",
    "Esta práctica se basa en la implementación de un algoritmo evolutivo y de su comparación con otro de una biblioteca estudiada en esta asignatura, en concreto se realizará el algoritmo de [**Evolución Diferencial (DE)**](https://es.wikipedia.org/wiki/Evoluci%C3%B3n_diferencial) y la biblioteca [**SciPy**](https://docs.scipy.org/doc/scipy/reference/) donde encontraremos este mismo algoritmo de evolución diferencial.\n",
    "\n",
    "El algoritmo Evolución Diferencial es un método de optimización que está dentro de la computación evolutiva (rama de la inteligencia artificial inspirada en los mecanismos de la evolución biológica).\n",
    "\n",
    "La biblioteca SciPy, que viene de las siglas Scientific Python, es una biblioteca de cálculo científico que proporciona funciones de utilidad para optimización, estadísticas y procesamiento de señales.\n"
   ]
  },
  {
   "cell_type": "markdown",
   "metadata": {},
   "source": [
    "## Algoritmo implementado\n",
    "El algoritmo de **Evolución Diferencial (DE)** ha sido el realizado en esta práctica, este algoritmo tiene una configuración específica, la *mutación se utiliza la estrategia (de/rand/1)*, *selección de forma uniforme*, *cruzamiento binomial* y un *reemplazo elitista y posición a posición*.\n",
    "\n",
    "La idea del DE es generar una población de nuevas soluciones a partir de perturbar soluciones pertenecientes a la población de ese momento.\n",
    "\n",
    "El funcionamiento de este algoritmo es el siguiente:\n",
    "\n",
    "1. Crear una población inicial.\n",
    "2. Determinar un individuo de la población en función de la estrategia de selección.\n",
    "3. Generar nuevos individuos según el operador de mutación.\n",
    "4. Aplicar el cruzamiento/recombinación.\n",
    "5. Reemplazar el individuo seleccionado.\n",
    "6. Volver al paso 2 hasta obtener la mejor solución."
   ]
  },
  {
   "cell_type": "markdown",
   "metadata": {},
   "source": [
    "## Funcionamiento específico\n",
    "- **Uniform Selection.**\n",
    "\n",
    "    Se escogen tres vectores diferentes de forma aleatoria dentro de la población obtenida, con los que trabajaremos junto al **Target vector** del que se hablará más adelante. A estos tres vectores se les llama **Donor vectors**.\n",
    "    \n",
    "\t\n",
    "- **Mutation (de/rand/1).**\n",
    "\t\n",
    "    Se utiliza la estrategia de/rand/1, donde se escogen tres vectores diferentes de forma aleatoria, . A continuación se realiza la siguiente operación:\n",
    "    \n",
    "    V<sub>i,g</sub> = x<sub>r<sub>0</sub>,g</sub> + F(x<sub>r<sub>1</sub>,g</sub> − x<sub>r<sub>2</sub>,g</sub>)\n",
    "         Donde:\n",
    "         - F es una constante entre 0 y 2, 1 en nuestro caso.\n",
    "         - V<sub>i,g</sub> es el resultado de la mutación.\n",
    "\n",
    "\n",
    "- **Binomial Crossover.**\n",
    "\n",
    "  En el cruzamiento binomial, en donde aparece el **trial vector (u<sub>i,g</sub>)**, creado por los elementos del target vector (x<sub>i,g</sub>) y del donor vector (v<sub>i,g</sub>), además de una probabilidad **CR**, 0.1 en nuestro caso.\n",
    "  \n",
    "  u<sub>i,g</sub> =\n",
    "  \n",
    "  v<sub>i,g</sub> si rand <= CR\n",
    "         o\n",
    "  x<sub>i,g</sub> si rand > CR\n",
    "      Donde:\n",
    "      - *rand* es un número aleatorio comprendido entre 0 y 1.\n",
    "      - *CR* es la probabilidad antes descrita.\n",
    "\n",
    "\n",
    "- **Elitist Replacement.**\n",
    "\n",
    "\tEste reemplazo es el más habitual, en el que se compara el *target vector* con el *trial vector* y aquel con la función de menor valor es el admitido en la siguiente generación.\n",
    "    "
   ]
  },
  {
   "cell_type": "markdown",
   "metadata": {},
   "source": [
    "## Comparación"
   ]
  },
  {
   "cell_type": "markdown",
   "metadata": {},
   "source": [
    "En este apartado se procederá a realizar la comparación del algoritmo **DE** implementado por nosotros, con el de la biblioteca. Se incluirán los resultados de ambas implementaciones respresentados mediante tablas y algunos comentarios explicativos."
   ]
  },
  {
   "cell_type": "markdown",
   "metadata": {},
   "source": [
    "En los siguientes fragmentos, se importan las librerías y las funciones a utilizar, junto con la creación de ambos algoritmos.\n",
    "En particular, se utiliza la optimización de SciPy, que proporciona funciones para maximizar o minimizar funciones objetivas. Y algunas de las [funciones de optimización](https://en.wikipedia.org/wiki/Test_functions_for_optimization) como la *sphere, ackley, rosenbrock,...* entre otras, dentro de la librería [Benchmarks](https://deap.readthedocs.io/en/master/api/benchmarks.html#deap.benchmarks.sphere). "
   ]
  },
  {
   "cell_type": "code",
   "execution_count": 1,
   "metadata": {},
   "outputs": [],
   "source": [
    "from scipy.optimize import differential_evolution\n",
    "from group10.EA import EA\n",
    "from benchmarks.functions import sphere, ackley, rosenbrock, rastrigin, griewank, schwefel_2_21,schwefel_2_22, schwefel_1_2, extended_f_10, bohachevsky, schaffer\n",
    "import pandas as pd\n",
    "import numpy as np"
   ]
  },
  {
   "cell_type": "code",
   "execution_count": 2,
   "metadata": {
    "scrolled": true
   },
   "outputs": [],
   "source": [
    "def DE_biblio(m_function,bounds,p_size,iteration):\n",
    "    result = differential_evolution(m_function, bounds, popsize=p_size, polish=False, maxiter=iteration,strategy=\"rand1bin\")\n",
    "    return result"
   ]
  },
  {
   "cell_type": "code",
   "execution_count": 3,
   "metadata": {},
   "outputs": [],
   "source": [
    "def DE_propio(m_function,bounds,p_size,iteration):\n",
    "    miEA = EA(m_function, bounds, p_size)\n",
    "    miEA.run(iteration)\n",
    "    bestGenome = miEA.best()\n",
    "    return bestGenome"
   ]
  },
  {
   "cell_type": "markdown",
   "metadata": {},
   "source": [
    "En esta parte, se procede a (poner algo) en ambas implementaciones con las funciones de la librería benchmarks. **OJOOOOO!!!!**"
   ]
  },
  {
   "cell_type": "code",
   "execution_count": 4,
   "metadata": {},
   "outputs": [],
   "source": [
    "resultMI={}\n",
    "benchmark=[sphere, ackley, rosenbrock, rastrigin, griewank, schwefel_2_21,\n",
    "             schwefel_2_22, schwefel_1_2, extended_f_10, bohachevsky, schaffer]\n",
    "for func in benchmark:\n",
    "    resultMI[func.__name__] = DE_propio(func, [(-100, 100)] * 10,50,100).solution"
   ]
  },
  {
   "cell_type": "code",
   "execution_count": 5,
   "metadata": {},
   "outputs": [],
   "source": [
    "resultDE={}\n",
    "for func in benchmark:\n",
    "    resultDE[func.__name__] = DE_biblio(func, [(-100, 100)] * 10,50,1).x"
   ]
  },
  {
   "cell_type": "markdown",
   "metadata": {},
   "source": [
    "Ahora se procede a obtener los resultados y almacenarlos en un par de tablas para falicitar su visualización y comprensión. Se obtendrán algunos valores estadísticos como la media, desviación, mínimo, máximo y mediana."
   ]
  },
  {
   "cell_type": "code",
   "execution_count": 6,
   "metadata": {
    "pycharm": {
     "name": "#%%\n"
    }
   },
   "outputs": [],
   "source": [
    "ind=['sphere', 'ackley', 'rosenbrock', 'rastrigin', 'griewank', 'schwefel_2_21',\n",
    "             'schwefel_2_22', 'schwefel_1_2', 'extended_f_10', 'bohachevsky', 'schaffer']\n",
    "col=['avg','std','min','max','med']"
   ]
  },
  {
   "cell_type": "code",
   "execution_count": 7,
   "metadata": {
    "pycharm": {
     "name": "#%%\n"
    }
   },
   "outputs": [],
   "source": [
    "df_b=pd.DataFrame(index=ind,columns=col)"
   ]
  },
  {
   "cell_type": "code",
   "execution_count": 8,
   "metadata": {
    "pycharm": {
     "name": "#%%\n"
    }
   },
   "outputs": [],
   "source": [
    "df_m=pd.DataFrame(index=ind,columns=col)"
   ]
  },
  {
   "cell_type": "markdown",
   "metadata": {},
   "source": [
    "Una vez creadas las tablas, se procede a guardar los datos para poder visualizarlos."
   ]
  },
  {
   "cell_type": "code",
   "execution_count": 9,
   "metadata": {},
   "outputs": [],
   "source": [
    "algNames = [\"MI\", \"DE\"]\n",
    "\n",
    "results_avg = {}\n",
    "results_std = {}\n",
    "results_min = {}\n",
    "results_max = {}\n",
    "results_median = {}\n",
    "\n",
    "\n",
    "for n in algNames:\n",
    "    results_avg[n] = []\n",
    "    results_std[n] = []\n",
    "    results_min[n] = []\n",
    "    results_max[n] = []\n",
    "    results_median[n] = []\n",
    "\n",
    "\n",
    "for func in benchmark:\n",
    "    f = func.__name__\n",
    "    results_avg[\"MI\"].append(np.mean(resultMI[f]))\n",
    "    results_avg[\"DE\"].append(np.mean(resultDE[f]))\n",
    "    results_std[\"MI\"].append(np.std(resultMI[f]))\n",
    "    results_std[\"DE\"].append(np.std(resultDE[f]))\n",
    "    results_min[\"MI\"].append(np.min(resultMI[f]))\n",
    "    results_min[\"DE\"].append(np.min(resultDE[f]))\n",
    "    results_max[\"MI\"].append(np.max(resultMI[f]))\n",
    "    results_max[\"DE\"].append(np.max(resultDE[f]))\n",
    "    results_median[\"MI\"].append(np.median(resultMI[f]))\n",
    "    results_median[\"DE\"].append(np.median(resultDE[f]))"
   ]
  },
  {
   "cell_type": "code",
   "execution_count": 10,
   "metadata": {
    "pycharm": {
     "name": "#%%\n"
    }
   },
   "outputs": [],
   "source": [
    "df_b.loc[:,'avg']=results_avg[\"MI\"]\n",
    "df_m.loc[:,'avg']=results_avg[\"DE\"]\n",
    "df_b.loc[:,'std']=results_std[\"MI\"]\n",
    "df_m.loc[:,'std']=results_std[\"DE\"]\n",
    "df_b.loc[:,'max']=results_max[\"MI\"]\n",
    "df_m.loc[:,'max']=results_max[\"DE\"]\n",
    "df_b.loc[:,'min']=results_min[\"MI\"]\n",
    "df_m.loc[:,'min']=results_min[\"DE\"]\n",
    "df_b.loc[:,'med']=results_median[\"MI\"]\n",
    "df_m.loc[:,'med']=results_median[\"DE\"]"
   ]
  },
  {
   "cell_type": "markdown",
   "metadata": {},
   "source": [
    "### Visualización de las tablas"
   ]
  },
  {
   "cell_type": "markdown",
   "metadata": {},
   "source": [
    "- **Tabla de DE de la biblioteca:**"
   ]
  },
  {
   "cell_type": "code",
   "execution_count": 11,
   "metadata": {
    "pycharm": {
     "name": "#%%\n"
    },
    "scrolled": false
   },
   "outputs": [
    {
     "data": {
      "text/html": [
       "<div>\n",
       "<style scoped>\n",
       "    .dataframe tbody tr th:only-of-type {\n",
       "        vertical-align: middle;\n",
       "    }\n",
       "\n",
       "    .dataframe tbody tr th {\n",
       "        vertical-align: top;\n",
       "    }\n",
       "\n",
       "    .dataframe thead th {\n",
       "        text-align: right;\n",
       "    }\n",
       "</style>\n",
       "<table border=\"1\" class=\"dataframe\">\n",
       "  <thead>\n",
       "    <tr style=\"text-align: right;\">\n",
       "      <th></th>\n",
       "      <th>avg</th>\n",
       "      <th>std</th>\n",
       "      <th>min</th>\n",
       "      <th>max</th>\n",
       "      <th>med</th>\n",
       "    </tr>\n",
       "  </thead>\n",
       "  <tbody>\n",
       "    <tr>\n",
       "      <th>sphere</th>\n",
       "      <td>-0.832994</td>\n",
       "      <td>2.879085</td>\n",
       "      <td>-4.443044</td>\n",
       "      <td>5.503758</td>\n",
       "      <td>-1.156979</td>\n",
       "    </tr>\n",
       "    <tr>\n",
       "      <th>ackley</th>\n",
       "      <td>16.000000</td>\n",
       "      <td>53.933292</td>\n",
       "      <td>-68.000000</td>\n",
       "      <td>100.000000</td>\n",
       "      <td>16.000000</td>\n",
       "    </tr>\n",
       "    <tr>\n",
       "      <th>rosenbrock</th>\n",
       "      <td>-11.667766</td>\n",
       "      <td>28.099468</td>\n",
       "      <td>-95.380311</td>\n",
       "      <td>1.298879</td>\n",
       "      <td>-1.792949</td>\n",
       "    </tr>\n",
       "    <tr>\n",
       "      <th>rastrigin</th>\n",
       "      <td>0.790745</td>\n",
       "      <td>1.853333</td>\n",
       "      <td>-2.361046</td>\n",
       "      <td>3.487043</td>\n",
       "      <td>0.825746</td>\n",
       "    </tr>\n",
       "    <tr>\n",
       "      <th>griewank</th>\n",
       "      <td>-0.432907</td>\n",
       "      <td>1.708469</td>\n",
       "      <td>-2.418673</td>\n",
       "      <td>2.572178</td>\n",
       "      <td>-1.072968</td>\n",
       "    </tr>\n",
       "    <tr>\n",
       "      <th>schwefel_2_21</th>\n",
       "      <td>-0.540011</td>\n",
       "      <td>4.924148</td>\n",
       "      <td>-6.342424</td>\n",
       "      <td>9.734619</td>\n",
       "      <td>-1.732114</td>\n",
       "    </tr>\n",
       "    <tr>\n",
       "      <th>schwefel_2_22</th>\n",
       "      <td>-0.949584</td>\n",
       "      <td>4.714939</td>\n",
       "      <td>-13.081634</td>\n",
       "      <td>6.742935</td>\n",
       "      <td>-0.050388</td>\n",
       "    </tr>\n",
       "    <tr>\n",
       "      <th>schwefel_1_2</th>\n",
       "      <td>1.470148</td>\n",
       "      <td>32.005723</td>\n",
       "      <td>-47.930563</td>\n",
       "      <td>52.563216</td>\n",
       "      <td>-10.902514</td>\n",
       "    </tr>\n",
       "    <tr>\n",
       "      <th>extended_f_10</th>\n",
       "      <td>1.502105</td>\n",
       "      <td>8.976913</td>\n",
       "      <td>-19.470047</td>\n",
       "      <td>16.946481</td>\n",
       "      <td>2.240359</td>\n",
       "    </tr>\n",
       "    <tr>\n",
       "      <th>bohachevsky</th>\n",
       "      <td>-0.315725</td>\n",
       "      <td>2.706597</td>\n",
       "      <td>-4.554126</td>\n",
       "      <td>5.636208</td>\n",
       "      <td>-0.757548</td>\n",
       "    </tr>\n",
       "    <tr>\n",
       "      <th>schaffer</th>\n",
       "      <td>-0.765205</td>\n",
       "      <td>5.732617</td>\n",
       "      <td>-13.142917</td>\n",
       "      <td>5.491460</td>\n",
       "      <td>1.028792</td>\n",
       "    </tr>\n",
       "  </tbody>\n",
       "</table>\n",
       "</div>"
      ],
      "text/plain": [
       "                     avg        std        min         max        med\n",
       "sphere         -0.832994   2.879085  -4.443044    5.503758  -1.156979\n",
       "ackley         16.000000  53.933292 -68.000000  100.000000  16.000000\n",
       "rosenbrock    -11.667766  28.099468 -95.380311    1.298879  -1.792949\n",
       "rastrigin       0.790745   1.853333  -2.361046    3.487043   0.825746\n",
       "griewank       -0.432907   1.708469  -2.418673    2.572178  -1.072968\n",
       "schwefel_2_21  -0.540011   4.924148  -6.342424    9.734619  -1.732114\n",
       "schwefel_2_22  -0.949584   4.714939 -13.081634    6.742935  -0.050388\n",
       "schwefel_1_2    1.470148  32.005723 -47.930563   52.563216 -10.902514\n",
       "extended_f_10   1.502105   8.976913 -19.470047   16.946481   2.240359\n",
       "bohachevsky    -0.315725   2.706597  -4.554126    5.636208  -0.757548\n",
       "schaffer       -0.765205   5.732617 -13.142917    5.491460   1.028792"
      ]
     },
     "execution_count": 11,
     "metadata": {},
     "output_type": "execute_result"
    }
   ],
   "source": [
    "df_b"
   ]
  },
  {
   "cell_type": "markdown",
   "metadata": {
    "pycharm": {
     "name": "#%% md\n"
    }
   },
   "source": [
    "- **Tabla de DE con nuestra implementación:**"
   ]
  },
  {
   "cell_type": "code",
   "execution_count": 12,
   "metadata": {
    "pycharm": {
     "name": "#%%\n"
    },
    "scrolled": true
   },
   "outputs": [
    {
     "data": {
      "text/html": [
       "<div>\n",
       "<style scoped>\n",
       "    .dataframe tbody tr th:only-of-type {\n",
       "        vertical-align: middle;\n",
       "    }\n",
       "\n",
       "    .dataframe tbody tr th {\n",
       "        vertical-align: top;\n",
       "    }\n",
       "\n",
       "    .dataframe thead th {\n",
       "        text-align: right;\n",
       "    }\n",
       "</style>\n",
       "<table border=\"1\" class=\"dataframe\">\n",
       "  <thead>\n",
       "    <tr style=\"text-align: right;\">\n",
       "      <th></th>\n",
       "      <th>avg</th>\n",
       "      <th>std</th>\n",
       "      <th>min</th>\n",
       "      <th>max</th>\n",
       "      <th>med</th>\n",
       "    </tr>\n",
       "  </thead>\n",
       "  <tbody>\n",
       "    <tr>\n",
       "      <th>sphere</th>\n",
       "      <td>13.441360</td>\n",
       "      <td>22.125121</td>\n",
       "      <td>-19.105047</td>\n",
       "      <td>51.238558</td>\n",
       "      <td>7.163662</td>\n",
       "    </tr>\n",
       "    <tr>\n",
       "      <th>ackley</th>\n",
       "      <td>-12.029602</td>\n",
       "      <td>49.769480</td>\n",
       "      <td>-66.959180</td>\n",
       "      <td>80.180897</td>\n",
       "      <td>-26.886087</td>\n",
       "    </tr>\n",
       "    <tr>\n",
       "      <th>rosenbrock</th>\n",
       "      <td>-5.178948</td>\n",
       "      <td>34.380295</td>\n",
       "      <td>-74.761386</td>\n",
       "      <td>42.121644</td>\n",
       "      <td>0.817122</td>\n",
       "    </tr>\n",
       "    <tr>\n",
       "      <th>rastrigin</th>\n",
       "      <td>7.168705</td>\n",
       "      <td>28.489795</td>\n",
       "      <td>-37.648363</td>\n",
       "      <td>45.976885</td>\n",
       "      <td>-2.314863</td>\n",
       "    </tr>\n",
       "    <tr>\n",
       "      <th>griewank</th>\n",
       "      <td>2.123564</td>\n",
       "      <td>29.326597</td>\n",
       "      <td>-51.260888</td>\n",
       "      <td>40.438970</td>\n",
       "      <td>10.582721</td>\n",
       "    </tr>\n",
       "    <tr>\n",
       "      <th>schwefel_2_21</th>\n",
       "      <td>-7.773361</td>\n",
       "      <td>26.358947</td>\n",
       "      <td>-39.539177</td>\n",
       "      <td>27.198499</td>\n",
       "      <td>-17.283632</td>\n",
       "    </tr>\n",
       "    <tr>\n",
       "      <th>schwefel_2_22</th>\n",
       "      <td>-9.383140</td>\n",
       "      <td>36.837949</td>\n",
       "      <td>-63.247785</td>\n",
       "      <td>52.543883</td>\n",
       "      <td>-0.064613</td>\n",
       "    </tr>\n",
       "    <tr>\n",
       "      <th>schwefel_1_2</th>\n",
       "      <td>-2.255092</td>\n",
       "      <td>33.994597</td>\n",
       "      <td>-64.265444</td>\n",
       "      <td>34.818825</td>\n",
       "      <td>12.086932</td>\n",
       "    </tr>\n",
       "    <tr>\n",
       "      <th>extended_f_10</th>\n",
       "      <td>-0.334786</td>\n",
       "      <td>30.641832</td>\n",
       "      <td>-44.003377</td>\n",
       "      <td>55.921289</td>\n",
       "      <td>-0.938139</td>\n",
       "    </tr>\n",
       "    <tr>\n",
       "      <th>bohachevsky</th>\n",
       "      <td>-4.783217</td>\n",
       "      <td>24.233197</td>\n",
       "      <td>-42.649789</td>\n",
       "      <td>26.665108</td>\n",
       "      <td>3.828103</td>\n",
       "    </tr>\n",
       "    <tr>\n",
       "      <th>schaffer</th>\n",
       "      <td>3.741247</td>\n",
       "      <td>33.557251</td>\n",
       "      <td>-36.320635</td>\n",
       "      <td>83.467512</td>\n",
       "      <td>0.674257</td>\n",
       "    </tr>\n",
       "  </tbody>\n",
       "</table>\n",
       "</div>"
      ],
      "text/plain": [
       "                     avg        std        min        max        med\n",
       "sphere         13.441360  22.125121 -19.105047  51.238558   7.163662\n",
       "ackley        -12.029602  49.769480 -66.959180  80.180897 -26.886087\n",
       "rosenbrock     -5.178948  34.380295 -74.761386  42.121644   0.817122\n",
       "rastrigin       7.168705  28.489795 -37.648363  45.976885  -2.314863\n",
       "griewank        2.123564  29.326597 -51.260888  40.438970  10.582721\n",
       "schwefel_2_21  -7.773361  26.358947 -39.539177  27.198499 -17.283632\n",
       "schwefel_2_22  -9.383140  36.837949 -63.247785  52.543883  -0.064613\n",
       "schwefel_1_2   -2.255092  33.994597 -64.265444  34.818825  12.086932\n",
       "extended_f_10  -0.334786  30.641832 -44.003377  55.921289  -0.938139\n",
       "bohachevsky    -4.783217  24.233197 -42.649789  26.665108   3.828103\n",
       "schaffer        3.741247  33.557251 -36.320635  83.467512   0.674257"
      ]
     },
     "execution_count": 12,
     "metadata": {},
     "output_type": "execute_result"
    }
   ],
   "source": [
    "df_m"
   ]
  },
  {
   "cell_type": "markdown",
   "metadata": {},
   "source": [
    "### Poner algo!\n",
    "Y por último, utilizaremos la librería [scikit-posthocs](https://scikit-posthocs.readthedocs.io/en/latest/) para...**OJOOOOO!!!**"
   ]
  },
  {
   "cell_type": "code",
   "execution_count": 13,
   "metadata": {
    "pycharm": {
     "name": "#%%\n"
    }
   },
   "outputs": [
    {
     "data": {
      "text/html": [
       "<div>\n",
       "<style scoped>\n",
       "    .dataframe tbody tr th:only-of-type {\n",
       "        vertical-align: middle;\n",
       "    }\n",
       "\n",
       "    .dataframe tbody tr th {\n",
       "        vertical-align: top;\n",
       "    }\n",
       "\n",
       "    .dataframe thead th {\n",
       "        text-align: right;\n",
       "    }\n",
       "</style>\n",
       "<table border=\"1\" class=\"dataframe\">\n",
       "  <thead>\n",
       "    <tr style=\"text-align: right;\">\n",
       "      <th></th>\n",
       "      <th>MI</th>\n",
       "      <th>DE</th>\n",
       "    </tr>\n",
       "  </thead>\n",
       "  <tbody>\n",
       "    <tr>\n",
       "      <th>MI</th>\n",
       "      <td>1.000000</td>\n",
       "      <td>0.831055</td>\n",
       "    </tr>\n",
       "    <tr>\n",
       "      <th>DE</th>\n",
       "      <td>0.831055</td>\n",
       "      <td>1.000000</td>\n",
       "    </tr>\n",
       "  </tbody>\n",
       "</table>\n",
       "</div>"
      ],
      "text/plain": [
       "          MI        DE\n",
       "MI  1.000000  0.831055\n",
       "DE  0.831055  1.000000"
      ]
     },
     "execution_count": 13,
     "metadata": {},
     "output_type": "execute_result"
    }
   ],
   "source": [
    "import scikit_posthocs as sp\n",
    "\n",
    "data = pd.DataFrame({\"algs\": [\"MI\" ]*len(results_avg[\"MI\"]) +\n",
    "                             [\"DE\"]*len(results_avg[\"DE\"]) ,\n",
    "                     \"vals\": results_avg[\"MI\"] +\n",
    "                             results_avg[\"DE\"] })\n",
    "\n",
    "sp.posthoc_wilcoxon(data, val_col='vals', group_col='algs', p_adjust = 'holm')\n",
    "\n",
    "\n"
   ]
  },
  {
   "cell_type": "markdown",
   "metadata": {},
   "source": [
    "## Conclusiones\n",
    "Este trabajo se ha enfocado en la comparación de los resultados del algoritmo de **Evolución Diferencial (DE)** implementado por nosotros con unas estrategias y  métodos específicos, con el mismo algoritmo (DE) proveniente de la librería SciPy. En los resultados, observamos... (poner algo)\n",
    "\n",
    "En cuanto al algoritmo DE, vemos su utilidad y nos damos cuenta de que los resultados son bastante buenos, aunque no los utilicemos de una forma óptima. Además, como ya veníamos de realizar el algoritmo genético (GA) del anterior trabajo, vemos que hay bastantes algoritmos dentro de la computación evolutiva y nos percatamos de la gran utilidad de ellos.\n",
    "\n",
    "(Pasando a un enfoque más personal sobre este trabajo) (cambiar) sobre este trabajo, encontramos interesante la posibilidad de comparar estos algoritmos, de este modo hemos podido adentrarnos e indagar más en profundidad sobre ellos, conociendo así las soluciones óptimas y las que no son tan óptimas. "
   ]
  },
  {
   "cell_type": "markdown",
   "metadata": {},
   "source": [
    "## Bibliografía\n",
    "https://es.wikipedia.org/wiki/Evoluci%C3%B3n_diferencial\n",
    "\n",
    "https://docs.scipy.org/doc/scipy/reference/\n",
    "\n",
    "https://docs.scipy.org/doc/scipy/reference/optimize.html\n",
    "\n",
    "https://en.wikipedia.org/wiki/Differential_evolution\n",
    "\n",
    "https://www.sciencedirect.com/science/article/pii/S2215098618323401#e0025\n",
    "\n",
    "https://www.sciencedirect.com/science/article/abs/pii/S1568494609000325\n",
    "\n",
    "https://www.hindawi.com/journals/jcse/2013/462706/"
   ]
  }
 ],
 "metadata": {
  "kernelspec": {
   "display_name": "Python 3",
   "language": "python",
   "name": "python3"
  },
  "language_info": {
   "codemirror_mode": {
    "name": "ipython",
    "version": 3
   },
   "file_extension": ".py",
   "mimetype": "text/x-python",
   "name": "python",
   "nbconvert_exporter": "python",
   "pygments_lexer": "ipython3",
   "version": "3.6.12"
  }
 },
 "nbformat": 4,
 "nbformat_minor": 4
}
