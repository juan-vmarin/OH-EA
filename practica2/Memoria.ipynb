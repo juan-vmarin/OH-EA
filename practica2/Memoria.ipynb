{
 "cells": [
  {
   "cell_type": "markdown",
   "metadata": {},
   "source": [
    "# Memoria\n",
    "## Grupo 10\n",
    "### Integrantes\n",
    "- Xiao Peng Ye\n",
    "- Zhengyu Ye\n",
    "- Juan Diego Valencia Marin"
   ]
  },
  {
   "cell_type": "markdown",
   "metadata": {},
   "source": [
    "## Índice\n",
    "1. Introducción\n",
    "2. Algoritmo implementado\n",
    "3. Funcionamiento específico\n",
    "4. Comparación con otro algoritmo\n",
    "5. Conclusiones\n",
    "6. Bibliografía"
   ]
  },
  {
   "cell_type": "markdown",
   "metadata": {},
   "source": [
    "## Introducción\n",
    "Esta práctica se basa en la implementación de un algoritmo evolutivo y de su comparación con otro de una biblioteca estudiada en esta asignatura, en concreto se realizará el algoritmo de [**Evolución Diferencial (DE)**](https://es.wikipedia.org/wiki/Evoluci%C3%B3n_diferencial) y la biblioteca [**SciPy**](https://docs.scipy.org/doc/scipy/reference/) donde encontraremos este mismo algoritmo de evolución diferencial.\n",
    "\n",
    "El algoritmo Evolución Diferencial es un método de optimización que está dentro de la computación evolutiva (rama de la inteligencia artificial inspirada en los mecanismos de la evolución biológica).\n",
    "\n",
    "La biblioteca SciPy, que viene de las siglas Scientific Python, es una biblioteca de cálculo científico que proporciona funciones de utilidad para optimización, estadísticas y procesamiento de señales.\n"
   ]
  },
  {
   "cell_type": "markdown",
   "metadata": {},
   "source": [
    "## Algoritmo implementado\n",
    "El algoritmo de **Evolución Diferencial (DE)** ha sido el realizado en esta práctica, este algoritmo tiene una configuración específica, la *mutación se utiliza la estrategia (de/rand/1)*, *selección de forma uniforme*, *cruzamiento binomial* y un *reemplazo elitista y posición a posición*.\n",
    "\n",
    "La idea del DE es generar una población de nuevas soluciones a partir de perturbar soluciones pertenecientes a la población de ese momento.\n",
    "\n",
    "El funcionamiento de este algoritmo es el siguiente:\n",
    "\n",
    "1. Crear una población inicial.\n",
    "2. Determinar un individuo de la población en función de la estrategia de selección.\n",
    "3. Generar nuevos individuos según el operador de mutación.\n",
    "4. Aplicar el cruzamiento/recombinación.\n",
    "5. Reemplazar el individuo seleccionado.\n",
    "6. Volver al paso 2 hasta obtener la mejor solución."
   ]
  },
  {
   "cell_type": "markdown",
   "metadata": {},
   "source": [
    "## Funcionamiento específico\n",
    "- **Uniform Selection.**\n",
    "\n",
    "    Se escogen tres vectores diferentes de forma aleatoria dentro de la población obtenida, con los que trabajaremos junto al **Target vector** del que se hablará más adelante. A estos tres vectores se les llama **Donor vectors**.\n",
    "    \n",
    "\t\n",
    "- **Mutation (de/rand/1).**\n",
    "\t\n",
    "    Se utiliza la estrategia de/rand/1, donde se escogen tres vectores diferentes de forma aleatoria, . A continuación se realiza la siguiente operación:\n",
    "    \n",
    "    V<sub>i,g</sub> = x<sub>r<sub>0</sub>,g</sub> + F(x<sub>r<sub>1</sub>,g</sub> − x<sub>r<sub>2</sub>,g</sub>)\n",
    "         Donde:\n",
    "         - F es una constante entre 0 y 2, 1 en nuestro caso.\n",
    "         - V<sub>i,g</sub> es el resultado de la mutación.\n",
    "\n",
    "\n",
    "- **Binomial Crossover.**\n",
    "\n",
    "  En el cruzamiento binomial, en donde aparece el **trial vector (u<sub>i,g</sub>)**, creado por los elementos del target vector (x<sub>i,g</sub>) y del donor vector (v<sub>i,g</sub>), además de una probabilidad **CR**, 0.1 en nuestro caso.\n",
    "  \n",
    "  u<sub>i,g</sub> =\n",
    "  \n",
    "  v<sub>i,g</sub> si rand <= CR\n",
    "         o\n",
    "  x<sub>i,g</sub> si rand > CR\n",
    "      Donde:\n",
    "      - *rand* es un número aleatorio comprendido entre 0 y 1.\n",
    "      - *CR* es la probabilidad antes descrita.\n",
    "\n",
    "\n",
    "- **Elitist Replacement.**\n",
    "\n",
    "\tEste reemplazo es el más habitual, en el que se compara el *target vector* con el *trial vector* y aquel con la función de menor valor es el admitido en la siguiente generación.\n",
    "    "
   ]
  },
  {
   "cell_type": "markdown",
   "metadata": {},
   "source": [
    "## Comparación"
   ]
  },
  {
   "cell_type": "markdown",
   "metadata": {},
   "source": [
    "En este apartado se procederá a realizar la comparación del algoritmo **DE** implementado por nosotros, con otras implementaciones provenientes de una biblioteca. Se incluirán los resultados de ambas implementaciones respresentados mediante tablas y algunos comentarios explicativos."
   ]
  },
  {
   "cell_type": "markdown",
   "metadata": {},
   "source": [
    "En los siguientes fragmentos, se importan las librerías y las funciones a utilizar, junto con la creación de ambos algoritmos.\n",
    "En particular, se utilizan la optimización de **SciPy** y **Pyade (SADE en particular)** que proporcionan funciones para maximizar o minimizar funciones objetivas. Y algunas de las [funciones de optimización](https://en.wikipedia.org/wiki/Test_functions_for_optimization) como la *sphere, ackley, rosenbrock,...* entre otras, dentro de la librería [Benchmarks](https://deap.readthedocs.io/en/master/api/benchmarks.html#deap.benchmarks.sphere). "
   ]
  },
  {
   "cell_type": "code",
   "execution_count": 20,
   "metadata": {},
   "outputs": [],
   "source": [
    "from scipy.optimize import differential_evolution\n",
    "from group10.EA import EA\n",
    "from benchmarks.functions import sphere, ackley, rosenbrock, rastrigin, griewank, schwefel_2_21,schwefel_2_22, schwefel_1_2, extended_f_10, bohachevsky, schaffer\n",
    "import pandas as pd\n",
    "import numpy as np\n",
    "import pyade.sade as sade"
   ]
  },
  {
   "cell_type": "code",
   "execution_count": 21,
   "metadata": {
    "scrolled": true
   },
   "outputs": [],
   "source": [
    "def DE_scipy(m_function,bounds,p_size,iteration):\n",
    "    result = differential_evolution(m_function, bounds, popsize=p_size, polish=False, maxiter=iteration,strategy=\"rand1bin\")\n",
    "    return result"
   ]
  },
  {
   "cell_type": "code",
   "execution_count": 22,
   "metadata": {},
   "outputs": [],
   "source": [
    "def DE_propio(m_function,bounds,p_size,iteration):\n",
    "    miEA = EA(m_function, bounds, p_size)\n",
    "    miEA.run(iteration)\n",
    "    bestGenome = miEA.best()\n",
    "    return bestGenome"
   ]
  },
  {
   "cell_type": "code",
   "execution_count": 23,
   "metadata": {
    "pycharm": {
     "name": "#%%\n"
    }
   },
   "outputs": [],
   "source": [
    "def DE_SADE(m_function,bounds,probsize,p_size,iteration):\n",
    "    params = sade.get_default_params(dim=probsize)\n",
    "    params['bounds'         ] = np.array([[bounds[0], bounds[1]]] * probsize)\n",
    "    params['max_evals'      ] = p_size*iteration\n",
    "    params['population_size'] = p_size\n",
    "    params['func'           ] = m_function\n",
    "    results = []\n",
    "    # for i in range(iteration):\n",
    "    _, fitness = sade.apply(**params)\n",
    "    results.append(fitness)\n",
    "\n",
    "    return results"
   ]
  },
  {
   "cell_type": "markdown",
   "metadata": {},
   "source": [
    "En esta parte, se procede a utilizar todas las funciones de optimización dentro de la librería benchmarks, junto con el algoritmo DE implementado por nuestra parte y las librerías SciPy y SADE."
   ]
  },
  {
   "cell_type": "code",
   "execution_count": 24,
   "metadata": {},
   "outputs": [],
   "source": [
    "benchmark=[sphere, ackley, rosenbrock, rastrigin, griewank, schwefel_2_21,\n",
    "             schwefel_2_22, schwefel_1_2, extended_f_10, bohachevsky, schaffer]"
   ]
  },
  {
   "cell_type": "code",
   "execution_count": 25,
   "metadata": {
    "pycharm": {
     "name": "#%%\n"
    }
   },
   "outputs": [],
   "source": [
    "resultMI={}\n",
    "\n",
    "for func in benchmark:\n",
    "    resultMI[func.__name__] = DE_propio(func, [(-100, 100)] * 10,50,100).solution"
   ]
  },
  {
   "cell_type": "code",
   "execution_count": 26,
   "metadata": {},
   "outputs": [],
   "source": [
    "resultDE={}\n",
    "for func in benchmark:\n",
    "    resultDE[func.__name__] = DE_scipy(func, [(-100, 100)] * 10,50,1).x\n",
    "\n"
   ]
  },
  {
   "cell_type": "code",
   "execution_count": 27,
   "metadata": {
    "pycharm": {
     "name": "#%%\n"
    }
   },
   "outputs": [],
   "source": [
    "resultSADE={}\n",
    "for func in benchmark:\n",
    "    resultSADE[func.__name__] = DE_SADE(func, (-100, 100), 10,50,1)\n",
    "\n"
   ]
  },
  {
   "cell_type": "markdown",
   "metadata": {},
   "source": [
    "Ahora se procede a obtener los resultados y almacenarlos en un par de tablas para falicitar su visualización y comprensión. Se obtendrán algunos valores estadísticos como la media, desviación, mínimo, máximo y mediana."
   ]
  },
  {
   "cell_type": "code",
   "execution_count": 28,
   "metadata": {
    "pycharm": {
     "name": "#%%\n"
    }
   },
   "outputs": [],
   "source": [
    "ind=['sphere', 'ackley', 'rosenbrock', 'rastrigin', 'griewank', 'schwefel_2_21',\n",
    "             'schwefel_2_22', 'schwefel_1_2', 'extended_f_10', 'bohachevsky', 'schaffer']\n",
    "col=['avg','std','min','max','med']"
   ]
  },
  {
   "cell_type": "code",
   "execution_count": 29,
   "metadata": {
    "pycharm": {
     "name": "#%%\n"
    }
   },
   "outputs": [],
   "source": [
    "df_b=pd.DataFrame(index=ind,columns=col)"
   ]
  },
  {
   "cell_type": "code",
   "execution_count": 30,
   "metadata": {
    "pycharm": {
     "name": "#%%\n"
    }
   },
   "outputs": [],
   "source": [
    "df_m=pd.DataFrame(index=ind,columns=col)"
   ]
  },
  {
   "cell_type": "code",
   "execution_count": 31,
   "metadata": {
    "pycharm": {
     "name": "#%%\n"
    }
   },
   "outputs": [],
   "source": [
    "df_d=pd.DataFrame(index=ind,columns=col)"
   ]
  },
  {
   "cell_type": "markdown",
   "metadata": {},
   "source": [
    "Una vez creadas las tablas, se procede a guardar los datos para poder visualizarlos."
   ]
  },
  {
   "cell_type": "code",
   "execution_count": 32,
   "metadata": {},
   "outputs": [],
   "source": [
    "algNames = [\"MI\", \"DE\",\"SADE\"]\n",
    "\n",
    "results_avg = {}\n",
    "results_std = {}\n",
    "results_min = {}\n",
    "results_max = {}\n",
    "results_median = {}\n",
    "\n",
    "\n",
    "for n in algNames:\n",
    "    results_avg[n] = []\n",
    "    results_std[n] = []\n",
    "    results_min[n] = []\n",
    "    results_max[n] = []\n",
    "    results_median[n] = []\n",
    "\n",
    "\n",
    "for func in benchmark:\n",
    "    f = func.__name__\n",
    "    results_avg[\"MI\"].append(np.mean(resultMI[f]))\n",
    "    results_avg[\"DE\"].append(np.mean(resultDE[f]))\n",
    "    results_avg[\"SADE\"].append(np.mean(resultSADE[f]))\n",
    "    results_std[\"MI\"].append(np.std(resultMI[f]))\n",
    "    results_std[\"DE\"].append(np.std(resultDE[f]))\n",
    "    results_std[\"SADE\"].append(np.std(resultSADE[f]))\n",
    "    results_min[\"MI\"].append(np.min(resultMI[f]))\n",
    "    results_min[\"DE\"].append(np.min(resultDE[f]))\n",
    "    results_min[\"SADE\"].append(np.min(resultSADE[f]))\n",
    "    results_max[\"MI\"].append(np.max(resultMI[f]))\n",
    "    results_max[\"DE\"].append(np.max(resultDE[f]))\n",
    "    results_max[\"SADE\"].append(np.max(resultSADE[f]))\n",
    "    results_median[\"MI\"].append(np.median(resultMI[f]))\n",
    "    results_median[\"DE\"].append(np.median(resultDE[f]))\n",
    "    results_median[\"SADE\"].append(np.median(resultSADE[f]))"
   ]
  },
  {
   "cell_type": "code",
   "execution_count": 33,
   "metadata": {
    "pycharm": {
     "name": "#%%\n"
    }
   },
   "outputs": [],
   "source": [
    "df_b.loc[:,'avg']=results_avg[\"MI\"]\n",
    "df_m.loc[:,'avg']=results_avg[\"DE\"]\n",
    "df_d.loc[:,'avg']=results_avg[\"SADE\"]\n",
    "df_b.loc[:,'std']=results_std[\"MI\"]\n",
    "df_m.loc[:,'std']=results_std[\"DE\"]\n",
    "df_d.loc[:,'std']=results_std[\"SADE\"]\n",
    "df_b.loc[:,'max']=results_max[\"MI\"]\n",
    "df_m.loc[:,'max']=results_max[\"DE\"]\n",
    "df_d.loc[:,'max']=results_max[\"SADE\"]\n",
    "df_b.loc[:,'min']=results_min[\"MI\"]\n",
    "df_m.loc[:,'min']=results_min[\"DE\"]\n",
    "df_d.loc[:,'min']=results_min[\"SADE\"]\n",
    "df_b.loc[:,'med']=results_median[\"MI\"]\n",
    "df_m.loc[:,'med']=results_median[\"DE\"]\n",
    "df_d.loc[:,'med']=results_median[\"SADE\"]"
   ]
  },
  {
   "cell_type": "markdown",
   "metadata": {},
   "source": [
    "### Visualización de las tablas"
   ]
  },
  {
   "cell_type": "markdown",
   "metadata": {},
   "source": [
    "- **Tabla de DE de la biblioteca SciPy:**"
   ]
  },
  {
   "cell_type": "code",
   "execution_count": 34,
   "metadata": {
    "pycharm": {
     "name": "#%%\n"
    },
    "scrolled": false
   },
   "outputs": [
    {
     "data": {
      "text/plain": "                     avg        std         min         max        med\nsphere          0.641641   2.606762   -4.197510    5.803624   0.766813\nackley         14.400000  55.776698 -100.000000  100.000000  28.000000\nrosenbrock     -2.689587   6.792811  -21.650989    3.947488  -0.889215\nrastrigin      -0.307791   2.421437   -3.881863    4.981679   0.130965\ngriewank       -0.125413   2.436944   -5.075182    2.895386   0.748658\nschwefel_2_21  -3.697642  11.543395  -20.196946   17.645014  -8.180161\nschwefel_2_22   0.340378   5.964925   -8.260805   16.065632  -0.443881\nschwefel_1_2    1.101189  26.228444  -38.649372   40.212710  -2.611263\nextended_f_10   2.338286  12.949442  -19.968145   23.511633   3.034524\nbohachevsky     0.732569   2.481358   -5.041945    3.683843   1.376465\nschaffer       -4.335123   6.534375  -17.458957    2.847644  -1.437340",
      "text/html": "<div>\n<style scoped>\n    .dataframe tbody tr th:only-of-type {\n        vertical-align: middle;\n    }\n\n    .dataframe tbody tr th {\n        vertical-align: top;\n    }\n\n    .dataframe thead th {\n        text-align: right;\n    }\n</style>\n<table border=\"1\" class=\"dataframe\">\n  <thead>\n    <tr style=\"text-align: right;\">\n      <th></th>\n      <th>avg</th>\n      <th>std</th>\n      <th>min</th>\n      <th>max</th>\n      <th>med</th>\n    </tr>\n  </thead>\n  <tbody>\n    <tr>\n      <th>sphere</th>\n      <td>0.641641</td>\n      <td>2.606762</td>\n      <td>-4.197510</td>\n      <td>5.803624</td>\n      <td>0.766813</td>\n    </tr>\n    <tr>\n      <th>ackley</th>\n      <td>14.400000</td>\n      <td>55.776698</td>\n      <td>-100.000000</td>\n      <td>100.000000</td>\n      <td>28.000000</td>\n    </tr>\n    <tr>\n      <th>rosenbrock</th>\n      <td>-2.689587</td>\n      <td>6.792811</td>\n      <td>-21.650989</td>\n      <td>3.947488</td>\n      <td>-0.889215</td>\n    </tr>\n    <tr>\n      <th>rastrigin</th>\n      <td>-0.307791</td>\n      <td>2.421437</td>\n      <td>-3.881863</td>\n      <td>4.981679</td>\n      <td>0.130965</td>\n    </tr>\n    <tr>\n      <th>griewank</th>\n      <td>-0.125413</td>\n      <td>2.436944</td>\n      <td>-5.075182</td>\n      <td>2.895386</td>\n      <td>0.748658</td>\n    </tr>\n    <tr>\n      <th>schwefel_2_21</th>\n      <td>-3.697642</td>\n      <td>11.543395</td>\n      <td>-20.196946</td>\n      <td>17.645014</td>\n      <td>-8.180161</td>\n    </tr>\n    <tr>\n      <th>schwefel_2_22</th>\n      <td>0.340378</td>\n      <td>5.964925</td>\n      <td>-8.260805</td>\n      <td>16.065632</td>\n      <td>-0.443881</td>\n    </tr>\n    <tr>\n      <th>schwefel_1_2</th>\n      <td>1.101189</td>\n      <td>26.228444</td>\n      <td>-38.649372</td>\n      <td>40.212710</td>\n      <td>-2.611263</td>\n    </tr>\n    <tr>\n      <th>extended_f_10</th>\n      <td>2.338286</td>\n      <td>12.949442</td>\n      <td>-19.968145</td>\n      <td>23.511633</td>\n      <td>3.034524</td>\n    </tr>\n    <tr>\n      <th>bohachevsky</th>\n      <td>0.732569</td>\n      <td>2.481358</td>\n      <td>-5.041945</td>\n      <td>3.683843</td>\n      <td>1.376465</td>\n    </tr>\n    <tr>\n      <th>schaffer</th>\n      <td>-4.335123</td>\n      <td>6.534375</td>\n      <td>-17.458957</td>\n      <td>2.847644</td>\n      <td>-1.437340</td>\n    </tr>\n  </tbody>\n</table>\n</div>"
     },
     "execution_count": 34,
     "metadata": {},
     "output_type": "execute_result"
    }
   ],
   "source": [
    "df_b"
   ]
  },
  {
   "cell_type": "markdown",
   "metadata": {},
   "source": [
    "- **Tabla de DE de la biblioteca SADE:**"
   ]
  },
  {
   "cell_type": "code",
   "execution_count": 35,
   "metadata": {
    "pycharm": {
     "name": "#%%\n"
    }
   },
   "outputs": [
    {
     "data": {
      "text/plain": "                     avg        std         min         max        med\nsphere          0.641641   2.606762   -4.197510    5.803624   0.766813\nackley         14.400000  55.776698 -100.000000  100.000000  28.000000\nrosenbrock     -2.689587   6.792811  -21.650989    3.947488  -0.889215\nrastrigin      -0.307791   2.421437   -3.881863    4.981679   0.130965\ngriewank       -0.125413   2.436944   -5.075182    2.895386   0.748658\nschwefel_2_21  -3.697642  11.543395  -20.196946   17.645014  -8.180161\nschwefel_2_22   0.340378   5.964925   -8.260805   16.065632  -0.443881\nschwefel_1_2    1.101189  26.228444  -38.649372   40.212710  -2.611263\nextended_f_10   2.338286  12.949442  -19.968145   23.511633   3.034524\nbohachevsky     0.732569   2.481358   -5.041945    3.683843   1.376465\nschaffer       -4.335123   6.534375  -17.458957    2.847644  -1.437340",
      "text/html": "<div>\n<style scoped>\n    .dataframe tbody tr th:only-of-type {\n        vertical-align: middle;\n    }\n\n    .dataframe tbody tr th {\n        vertical-align: top;\n    }\n\n    .dataframe thead th {\n        text-align: right;\n    }\n</style>\n<table border=\"1\" class=\"dataframe\">\n  <thead>\n    <tr style=\"text-align: right;\">\n      <th></th>\n      <th>avg</th>\n      <th>std</th>\n      <th>min</th>\n      <th>max</th>\n      <th>med</th>\n    </tr>\n  </thead>\n  <tbody>\n    <tr>\n      <th>sphere</th>\n      <td>0.641641</td>\n      <td>2.606762</td>\n      <td>-4.197510</td>\n      <td>5.803624</td>\n      <td>0.766813</td>\n    </tr>\n    <tr>\n      <th>ackley</th>\n      <td>14.400000</td>\n      <td>55.776698</td>\n      <td>-100.000000</td>\n      <td>100.000000</td>\n      <td>28.000000</td>\n    </tr>\n    <tr>\n      <th>rosenbrock</th>\n      <td>-2.689587</td>\n      <td>6.792811</td>\n      <td>-21.650989</td>\n      <td>3.947488</td>\n      <td>-0.889215</td>\n    </tr>\n    <tr>\n      <th>rastrigin</th>\n      <td>-0.307791</td>\n      <td>2.421437</td>\n      <td>-3.881863</td>\n      <td>4.981679</td>\n      <td>0.130965</td>\n    </tr>\n    <tr>\n      <th>griewank</th>\n      <td>-0.125413</td>\n      <td>2.436944</td>\n      <td>-5.075182</td>\n      <td>2.895386</td>\n      <td>0.748658</td>\n    </tr>\n    <tr>\n      <th>schwefel_2_21</th>\n      <td>-3.697642</td>\n      <td>11.543395</td>\n      <td>-20.196946</td>\n      <td>17.645014</td>\n      <td>-8.180161</td>\n    </tr>\n    <tr>\n      <th>schwefel_2_22</th>\n      <td>0.340378</td>\n      <td>5.964925</td>\n      <td>-8.260805</td>\n      <td>16.065632</td>\n      <td>-0.443881</td>\n    </tr>\n    <tr>\n      <th>schwefel_1_2</th>\n      <td>1.101189</td>\n      <td>26.228444</td>\n      <td>-38.649372</td>\n      <td>40.212710</td>\n      <td>-2.611263</td>\n    </tr>\n    <tr>\n      <th>extended_f_10</th>\n      <td>2.338286</td>\n      <td>12.949442</td>\n      <td>-19.968145</td>\n      <td>23.511633</td>\n      <td>3.034524</td>\n    </tr>\n    <tr>\n      <th>bohachevsky</th>\n      <td>0.732569</td>\n      <td>2.481358</td>\n      <td>-5.041945</td>\n      <td>3.683843</td>\n      <td>1.376465</td>\n    </tr>\n    <tr>\n      <th>schaffer</th>\n      <td>-4.335123</td>\n      <td>6.534375</td>\n      <td>-17.458957</td>\n      <td>2.847644</td>\n      <td>-1.437340</td>\n    </tr>\n  </tbody>\n</table>\n</div>"
     },
     "execution_count": 35,
     "metadata": {},
     "output_type": "execute_result"
    }
   ],
   "source": [
    "df_b"
   ]
  },
  {
   "cell_type": "markdown",
   "metadata": {
    "pycharm": {
     "name": "#%% md\n"
    }
   },
   "source": [
    "- **Tabla de DE con nuestra implementación:**"
   ]
  },
  {
   "cell_type": "code",
   "execution_count": 36,
   "metadata": {
    "pycharm": {
     "name": "#%%\n"
    },
    "scrolled": true
   },
   "outputs": [
    {
     "data": {
      "text/plain": "                     avg        std        min        max        med\nsphere         15.035242  22.856162 -19.448965  75.359528  14.928972\nackley         10.560903  50.135965 -55.950992  91.802279   2.426694\nrosenbrock      3.410450  34.021167 -45.043129  78.263340   0.901301\nrastrigin       8.241397  28.968507 -48.571290  43.659001  20.500043\ngriewank        7.885754  27.664531 -36.395524  50.301786   9.876800\nschwefel_2_21  -3.149187  29.221475 -44.735784  38.690275   5.034403\nschwefel_2_22  14.831340  42.302366 -42.905633  81.173089   1.488086\nschwefel_1_2    5.465273  38.198200 -48.288500  72.106901  -4.455516\nextended_f_10   2.965053  32.550555 -48.881930  57.558998  -1.502722\nbohachevsky     9.268896  21.320010 -23.626976  45.003958   7.275431\nschaffer      -14.685101  33.824994 -84.543509  26.918916  -5.068789",
      "text/html": "<div>\n<style scoped>\n    .dataframe tbody tr th:only-of-type {\n        vertical-align: middle;\n    }\n\n    .dataframe tbody tr th {\n        vertical-align: top;\n    }\n\n    .dataframe thead th {\n        text-align: right;\n    }\n</style>\n<table border=\"1\" class=\"dataframe\">\n  <thead>\n    <tr style=\"text-align: right;\">\n      <th></th>\n      <th>avg</th>\n      <th>std</th>\n      <th>min</th>\n      <th>max</th>\n      <th>med</th>\n    </tr>\n  </thead>\n  <tbody>\n    <tr>\n      <th>sphere</th>\n      <td>15.035242</td>\n      <td>22.856162</td>\n      <td>-19.448965</td>\n      <td>75.359528</td>\n      <td>14.928972</td>\n    </tr>\n    <tr>\n      <th>ackley</th>\n      <td>10.560903</td>\n      <td>50.135965</td>\n      <td>-55.950992</td>\n      <td>91.802279</td>\n      <td>2.426694</td>\n    </tr>\n    <tr>\n      <th>rosenbrock</th>\n      <td>3.410450</td>\n      <td>34.021167</td>\n      <td>-45.043129</td>\n      <td>78.263340</td>\n      <td>0.901301</td>\n    </tr>\n    <tr>\n      <th>rastrigin</th>\n      <td>8.241397</td>\n      <td>28.968507</td>\n      <td>-48.571290</td>\n      <td>43.659001</td>\n      <td>20.500043</td>\n    </tr>\n    <tr>\n      <th>griewank</th>\n      <td>7.885754</td>\n      <td>27.664531</td>\n      <td>-36.395524</td>\n      <td>50.301786</td>\n      <td>9.876800</td>\n    </tr>\n    <tr>\n      <th>schwefel_2_21</th>\n      <td>-3.149187</td>\n      <td>29.221475</td>\n      <td>-44.735784</td>\n      <td>38.690275</td>\n      <td>5.034403</td>\n    </tr>\n    <tr>\n      <th>schwefel_2_22</th>\n      <td>14.831340</td>\n      <td>42.302366</td>\n      <td>-42.905633</td>\n      <td>81.173089</td>\n      <td>1.488086</td>\n    </tr>\n    <tr>\n      <th>schwefel_1_2</th>\n      <td>5.465273</td>\n      <td>38.198200</td>\n      <td>-48.288500</td>\n      <td>72.106901</td>\n      <td>-4.455516</td>\n    </tr>\n    <tr>\n      <th>extended_f_10</th>\n      <td>2.965053</td>\n      <td>32.550555</td>\n      <td>-48.881930</td>\n      <td>57.558998</td>\n      <td>-1.502722</td>\n    </tr>\n    <tr>\n      <th>bohachevsky</th>\n      <td>9.268896</td>\n      <td>21.320010</td>\n      <td>-23.626976</td>\n      <td>45.003958</td>\n      <td>7.275431</td>\n    </tr>\n    <tr>\n      <th>schaffer</th>\n      <td>-14.685101</td>\n      <td>33.824994</td>\n      <td>-84.543509</td>\n      <td>26.918916</td>\n      <td>-5.068789</td>\n    </tr>\n  </tbody>\n</table>\n</div>"
     },
     "execution_count": 36,
     "metadata": {},
     "output_type": "execute_result"
    }
   ],
   "source": [
    "df_m\n"
   ]
  },
  {
   "cell_type": "markdown",
   "source": [
    "Kruskal"
   ],
   "metadata": {
    "collapsed": false,
    "pycharm": {
     "name": "#%% md\n"
    }
   }
  },
  {
   "cell_type": "code",
   "execution_count": 37,
   "outputs": [
    {
     "name": "stdout",
     "output_type": "stream",
     "text": [
      "Results for the sphere function: 0.04481578736066588\n",
      "Results for the ackley function: 0.8870360039118241\n",
      "Results for the rosenbrock function: 0.17593118800104007\n",
      "Results for the rastrigin function: 0.19723159662080514\n",
      "Results for the griewank function: 0.9107321035621679\n",
      "Results for the schwefel_2_21 function: 0.955563036268283\n",
      "Results for the schwefel_2_22 function: 0.5389234080937939\n",
      "Results for the schwefel_1_2 function: 0.9896641751808726\n",
      "Results for the extended_f_10 function: 0.7854029022781085\n",
      "Results for the bohachevsky function: 0.17411279406164157\n",
      "Results for the schaffer function: 0.4739027027804147\n"
     ]
    }
   ],
   "source": [
    "from scipy.stats import kruskal\n",
    "\n",
    "for func in benchmark:\n",
    "    f = func.__name__\n",
    "    res = kruskal(resultMI[f], resultDE[f], resultSADE[f])\n",
    "    print(\"Results for the \"+f+\" function: \"+str(res.pvalue))\n"
   ],
   "metadata": {
    "collapsed": false,
    "pycharm": {
     "name": "#%%\n"
    }
   }
  },
  {
   "cell_type": "markdown",
   "metadata": {
    "pycharm": {
     "name": "#%% md\n"
    }
   },
   "source": [
    "Friedman"
   ]
  },
  {
   "cell_type": "code",
   "execution_count": 38,
   "metadata": {
    "pycharm": {
     "name": "#%%\n"
    }
   },
   "outputs": [
    {
     "data": {
      "text/plain": "FriedmanchisquareResult(statistic=8.909090909090907, pvalue=0.011625603038838514)"
     },
     "execution_count": 38,
     "metadata": {},
     "output_type": "execute_result"
    }
   ],
   "source": [
    "from scipy.stats import friedmanchisquare\n",
    "\n",
    "friedmanchisquare(results_avg[\"MI\"], results_avg[\"DE\"], results_avg[\"SADE\"])\n",
    "\n"
   ]
  },
  {
   "cell_type": "markdown",
   "metadata": {},
   "source": [
    "Por último, utilizaremos la librería [scikit-posthocs](https://scikit-posthocs.readthedocs.io/en/latest/) para realizar una comparación directa de las tres posibles implementaciones. Esta comparación se realizará mediante el método de comparación por pares, en donde se comparan los algoritmos dos a dos obteniendo unos resultados más específicos.\n",
    "\n",
    "En la tabla se puede observar que los resultados son mejores cuando el valor se acerca mas a 0, siendo la comparación de un algoritmo consigo mismo 1. Por lo que podemos afirmar que nuestra implementación no es tan eficiente como las demas porque los valores son ligeramente mayores a los de las librerías. Y con este mismo razonamienteo, el algoritmo SADE es un poco mejor que el de DE.\n",
    "# Modificar y mejorar"
   ]
  },
  {
   "cell_type": "code",
   "execution_count": 39,
   "metadata": {
    "pycharm": {
     "name": "#%%\n"
    }
   },
   "outputs": [
    {
     "data": {
      "text/plain": "            MI        DE      SADE\nMI    1.000000  0.134766  0.055664\nDE    0.134766  1.000000  0.519531\nSADE  0.055664  0.519531  1.000000",
      "text/html": "<div>\n<style scoped>\n    .dataframe tbody tr th:only-of-type {\n        vertical-align: middle;\n    }\n\n    .dataframe tbody tr th {\n        vertical-align: top;\n    }\n\n    .dataframe thead th {\n        text-align: right;\n    }\n</style>\n<table border=\"1\" class=\"dataframe\">\n  <thead>\n    <tr style=\"text-align: right;\">\n      <th></th>\n      <th>MI</th>\n      <th>DE</th>\n      <th>SADE</th>\n    </tr>\n  </thead>\n  <tbody>\n    <tr>\n      <th>MI</th>\n      <td>1.000000</td>\n      <td>0.134766</td>\n      <td>0.055664</td>\n    </tr>\n    <tr>\n      <th>DE</th>\n      <td>0.134766</td>\n      <td>1.000000</td>\n      <td>0.519531</td>\n    </tr>\n    <tr>\n      <th>SADE</th>\n      <td>0.055664</td>\n      <td>0.519531</td>\n      <td>1.000000</td>\n    </tr>\n  </tbody>\n</table>\n</div>"
     },
     "execution_count": 39,
     "metadata": {},
     "output_type": "execute_result"
    }
   ],
   "source": [
    "import scikit_posthocs as sp\n",
    "\n",
    "data = pd.DataFrame({\"algs\": [\"MI\" ]*len(results_avg[\"MI\"]) +\n",
    "                             [\"DE\"]*len(results_avg[\"DE\"]) +\n",
    "                            [\"SADE\"]*len(results_avg[\"SADE\"]),\n",
    "                     \"vals\": results_avg[\"MI\"] +\n",
    "                             results_avg[\"DE\"] +\n",
    "                            results_avg[\"SADE\"]})\n",
    "\n",
    "sp.posthoc_wilcoxon(data, val_col='vals', group_col='algs', p_adjust = 'holm')\n",
    "\n",
    "\n"
   ]
  },
  {
   "cell_type": "markdown",
   "metadata": {},
   "source": [
    "## Conclusiones\n",
    "Este trabajo se ha enfocado en la comparación de los resultados del algoritmo de **Evolución Diferencial (DE)** implementado por nosotros con unas estrategias y  métodos específicos, con el mismo algoritmo (DE) proveniente de la librería SciPy. En los resultados, observamos... (poner algo)\n",
    "\n",
    "En cuanto al algoritmo DE, vemos su utilidad y nos damos cuenta de que los resultados son bastante buenos, aunque no los utilicemos de una forma óptima. Además, como ya veníamos de realizar el algoritmo genético (GA) del anterior trabajo, vemos que hay bastantes algoritmos dentro de la computación evolutiva y nos percatamos de la gran utilidad de ellos.\n",
    "\n",
    "(Pasando a un enfoque más personal sobre este trabajo) (cambiar) sobre este trabajo, encontramos interesante la posibilidad de comparar estos algoritmos, de este modo hemos podido adentrarnos e indagar más en profundidad sobre ellos, conociendo así las soluciones óptimas y las que no son tan óptimas. "
   ]
  },
  {
   "cell_type": "markdown",
   "metadata": {},
   "source": [
    "## Bibliografía\n",
    "https://es.wikipedia.org/wiki/Evoluci%C3%B3n_diferencial\n",
    "\n",
    "https://docs.scipy.org/doc/scipy/reference/\n",
    "\n",
    "https://docs.scipy.org/doc/scipy/reference/optimize.html\n",
    "\n",
    "https://en.wikipedia.org/wiki/Differential_evolution\n",
    "\n",
    "https://www.sciencedirect.com/science/article/pii/S2215098618323401#e0025\n",
    "\n",
    "https://www.sciencedirect.com/science/article/abs/pii/S1568494609000325\n",
    "\n",
    "https://www.hindawi.com/journals/jcse/2013/462706/"
   ]
  }
 ],
 "metadata": {
  "kernelspec": {
   "display_name": "PyCharm (OH-EA)",
   "language": "python",
   "name": "pycharm-a7ac94d2"
  },
  "language_info": {
   "codemirror_mode": {
    "name": "ipython",
    "version": 3
   },
   "file_extension": ".py",
   "mimetype": "text/x-python",
   "name": "python",
   "nbconvert_exporter": "python",
   "pygments_lexer": "ipython3",
   "version": "3.8.5"
  }
 },
 "nbformat": 4,
 "nbformat_minor": 4
}